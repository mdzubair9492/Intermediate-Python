{
  "nbformat": 4,
  "nbformat_minor": 0,
  "metadata": {
    "colab": {
      "provenance": []
    },
    "kernelspec": {
      "name": "python3",
      "display_name": "Python 3"
    },
    "language_info": {
      "name": "python"
    }
  },
  "cells": [
    {
      "cell_type": "markdown",
      "source": [
        "#Functions"
      ],
      "metadata": {
        "id": "a_l_uB1vb0vl"
      }
    },
    {
      "cell_type": "markdown",
      "source": [
        "any() takes an iterable as its argument and returns True if any of the items in the iterable are truthy and False otherwise:"
      ],
      "metadata": {
        "id": "m2meGKT2cGeo"
      }
    },
    {
      "cell_type": "code",
      "source": [
        "any ([False,0,'hey'=='boo'])"
      ],
      "metadata": {
        "colab": {
          "base_uri": "https://localhost:8080/"
        },
        "id": "2LBytOExcHew",
        "outputId": "1e12e355-3325-44be-f68b-a1a8865b572d"
      },
      "execution_count": 1,
      "outputs": [
        {
          "output_type": "execute_result",
          "data": {
            "text/plain": [
              "False"
            ]
          },
          "metadata": {},
          "execution_count": 1
        }
      ]
    },
    {
      "cell_type": "code",
      "source": [
        "any([True,0,0])"
      ],
      "metadata": {
        "colab": {
          "base_uri": "https://localhost:8080/"
        },
        "id": "19r4hVr1cNmk",
        "outputId": "65f9aab9-e667-4ca2-b1cd-cb28229e3b48"
      },
      "execution_count": 2,
      "outputs": [
        {
          "output_type": "execute_result",
          "data": {
            "text/plain": [
              "True"
            ]
          },
          "metadata": {},
          "execution_count": 2
        }
      ]
    },
    {
      "cell_type": "markdown",
      "source": [
        "**Default Parameters**"
      ],
      "metadata": {
        "id": "h2ZRpO2PcbGq"
      }
    },
    {
      "cell_type": "code",
      "source": [
        "def default_func(a=7,b=5):\n",
        "  return a+b\n"
      ],
      "metadata": {
        "id": "OXL2wFKacgTZ"
      },
      "execution_count": 3,
      "outputs": []
    },
    {
      "cell_type": "code",
      "source": [
        "default_func()"
      ],
      "metadata": {
        "colab": {
          "base_uri": "https://localhost:8080/"
        },
        "id": "TMPoxKRIcmjx",
        "outputId": "a682b33c-0b55-487d-8b51-490071787e09"
      },
      "execution_count": 4,
      "outputs": [
        {
          "output_type": "execute_result",
          "data": {
            "text/plain": [
              "12"
            ]
          },
          "metadata": {},
          "execution_count": 4
        }
      ]
    },
    {
      "cell_type": "code",
      "source": [
        "default_func(3)"
      ],
      "metadata": {
        "colab": {
          "base_uri": "https://localhost:8080/"
        },
        "id": "tZx7yrnNcnsl",
        "outputId": "38ab4381-7bc7-4db0-9262-ca99cb042fd8"
      },
      "execution_count": 5,
      "outputs": [
        {
          "output_type": "execute_result",
          "data": {
            "text/plain": [
              "8"
            ]
          },
          "metadata": {},
          "execution_count": 5
        }
      ]
    },
    {
      "cell_type": "code",
      "source": [
        "default_func(2,3)"
      ],
      "metadata": {
        "colab": {
          "base_uri": "https://localhost:8080/"
        },
        "id": "Luk8KksucpIJ",
        "outputId": "e3208d3b-5413-49a1-8184-a3572b6420eb"
      },
      "execution_count": 6,
      "outputs": [
        {
          "output_type": "execute_result",
          "data": {
            "text/plain": [
              "5"
            ]
          },
          "metadata": {},
          "execution_count": 6
        }
      ]
    },
    {
      "cell_type": "markdown",
      "source": [
        "**Mutuble Default Parameter Values**"
      ],
      "metadata": {
        "id": "T53r_B9udT8t"
      }
    },
    {
      "cell_type": "code",
      "source": [
        "def default_func_2(my_list=[]):\n",
        "  my_list.append('##')\n",
        "  return my_list"
      ],
      "metadata": {
        "id": "Bmk7pCyldXOZ"
      },
      "execution_count": 7,
      "outputs": []
    },
    {
      "cell_type": "code",
      "source": [
        "default_func_2()"
      ],
      "metadata": {
        "colab": {
          "base_uri": "https://localhost:8080/"
        },
        "id": "ybIbeJkodlQ6",
        "outputId": "31a5b414-ad50-45ab-bc62-2592455326b3"
      },
      "execution_count": 9,
      "outputs": [
        {
          "output_type": "execute_result",
          "data": {
            "text/plain": [
              "['##']"
            ]
          },
          "metadata": {},
          "execution_count": 9
        }
      ]
    },
    {
      "cell_type": "code",
      "source": [
        "default_func_2()"
      ],
      "metadata": {
        "colab": {
          "base_uri": "https://localhost:8080/"
        },
        "id": "mjuoTjj8dm_P",
        "outputId": "431a4d7e-ed0d-48ba-ef3a-1adfbbc0eac4"
      },
      "execution_count": 10,
      "outputs": [
        {
          "output_type": "execute_result",
          "data": {
            "text/plain": [
              "['##', '##']"
            ]
          },
          "metadata": {},
          "execution_count": 10
        }
      ]
    },
    {
      "cell_type": "code",
      "source": [
        "default_func_2()"
      ],
      "metadata": {
        "colab": {
          "base_uri": "https://localhost:8080/"
        },
        "id": "P0Hvr4P8dp8T",
        "outputId": "3ba0f0a9-7af7-4bba-9416-ae4c3996f558"
      },
      "execution_count": 11,
      "outputs": [
        {
          "output_type": "execute_result",
          "data": {
            "text/plain": [
              "['##', '##', '##']"
            ]
          },
          "metadata": {},
          "execution_count": 11
        }
      ]
    },
    {
      "cell_type": "markdown",
      "source": [
        "when my_list is allowed to default, the value is the same object with each call. Since lists are mutable, each subsequent .append() call causes the list to get longer. This is a common and pretty well-documented pitfall when you’re using a mutable object as a parameter’s default value. It potentially leads to confusing code behavior, and is probably best avoided."
      ],
      "metadata": {
        "id": "HfPuG8ARdtmz"
      }
    },
    {
      "cell_type": "code",
      "source": [
        "# to avoid this\n",
        "def f(my_list=None):\n",
        "  if my_list is None:\n",
        "    my_list = []\n",
        "  my_list.append('###')\n",
        "  return my_list\n",
        ""
      ],
      "metadata": {
        "id": "5qFkcNeVd8kb"
      },
      "execution_count": 12,
      "outputs": []
    },
    {
      "cell_type": "code",
      "source": [
        "f()"
      ],
      "metadata": {
        "colab": {
          "base_uri": "https://localhost:8080/"
        },
        "id": "M_9ErB1zeNIb",
        "outputId": "1f4496fc-8be4-4d54-840c-6b5f47701d5e"
      },
      "execution_count": 13,
      "outputs": [
        {
          "output_type": "execute_result",
          "data": {
            "text/plain": [
              "['###']"
            ]
          },
          "metadata": {},
          "execution_count": 13
        }
      ]
    },
    {
      "cell_type": "code",
      "source": [
        "f()"
      ],
      "metadata": {
        "colab": {
          "base_uri": "https://localhost:8080/"
        },
        "id": "2a7ejQQrePJc",
        "outputId": "c96507a9-1c4d-495c-de34-f5042472c913"
      },
      "execution_count": 14,
      "outputs": [
        {
          "output_type": "execute_result",
          "data": {
            "text/plain": [
              "['###']"
            ]
          },
          "metadata": {},
          "execution_count": 14
        }
      ]
    },
    {
      "cell_type": "code",
      "source": [
        "f()"
      ],
      "metadata": {
        "colab": {
          "base_uri": "https://localhost:8080/"
        },
        "id": "oWEV_z1_ePnv",
        "outputId": "ac304ebe-8cc9-497e-f0f3-ed6a7b70505b"
      },
      "execution_count": 15,
      "outputs": [
        {
          "output_type": "execute_result",
          "data": {
            "text/plain": [
              "['###']"
            ]
          },
          "metadata": {},
          "execution_count": 15
        }
      ]
    },
    {
      "cell_type": "markdown",
      "source": [
        "**Argument Tuple Packing**"
      ],
      "metadata": {
        "id": "g0NrUUcHoeI7"
      }
    },
    {
      "cell_type": "markdown",
      "source": [
        "Any corresponding arguments in the function call are packed into a tuple that the function can refer to by the given parameter name."
      ],
      "metadata": {
        "id": "EtpiVxTIqSs4"
      }
    },
    {
      "cell_type": "code",
      "source": [
        "def avg(*args):\n",
        "  return sum(args)/len(args)\n",
        "\n"
      ],
      "metadata": {
        "id": "A7eB0vziog8i"
      },
      "execution_count": 16,
      "outputs": []
    },
    {
      "cell_type": "code",
      "source": [
        "avg(1,2,3)"
      ],
      "metadata": {
        "colab": {
          "base_uri": "https://localhost:8080/"
        },
        "id": "X82WvHGApUv6",
        "outputId": "30b81a6f-d4f0-44db-9cf4-bb018ebc07ff"
      },
      "execution_count": 17,
      "outputs": [
        {
          "output_type": "execute_result",
          "data": {
            "text/plain": [
              "2.0"
            ]
          },
          "metadata": {},
          "execution_count": 17
        }
      ]
    },
    {
      "cell_type": "markdown",
      "source": [
        "**Argumnet Tuple Unpacking**"
      ],
      "metadata": {
        "id": "slUwx2Cip-ZG"
      }
    },
    {
      "cell_type": "code",
      "source": [
        "def f(x,y,z):\n",
        "  print('x = ',x)\n",
        "  print('y = ',y)\n",
        "  print('z = ',z)\n",
        ""
      ],
      "metadata": {
        "id": "iltRJpVSpXRO"
      },
      "execution_count": 18,
      "outputs": []
    },
    {
      "cell_type": "code",
      "source": [
        "t = ('foo','bar','boss')\n",
        "f(*t)"
      ],
      "metadata": {
        "colab": {
          "base_uri": "https://localhost:8080/"
        },
        "id": "OFcvszIIpiia",
        "outputId": "144285c5-9e44-4a34-e902-9afc4182b672"
      },
      "execution_count": 19,
      "outputs": [
        {
          "output_type": "stream",
          "name": "stdout",
          "text": [
            "x =  foo\n",
            "y =  bar\n",
            "z =  boss\n"
          ]
        }
      ]
    },
    {
      "cell_type": "code",
      "source": [
        "s = {1,2,3}\n",
        "f(*s)"
      ],
      "metadata": {
        "colab": {
          "base_uri": "https://localhost:8080/"
        },
        "id": "kzSLmZGMpnYd",
        "outputId": "a93672f8-d5ba-4684-9637-99d3b7c3a31b"
      },
      "execution_count": 20,
      "outputs": [
        {
          "output_type": "stream",
          "name": "stdout",
          "text": [
            "x =  1\n",
            "y =  2\n",
            "z =  3\n"
          ]
        }
      ]
    },
    {
      "cell_type": "markdown",
      "source": [
        "Here, f(*s) indicates that list s should be unpacked and the items passed to f() as individual values. The parameter specification *args causes the values to be packed back up into the tuple args."
      ],
      "metadata": {
        "id": "7s8RhX9ypyvF"
      }
    },
    {
      "cell_type": "markdown",
      "source": [
        "**Argument Dictionary Packing**"
      ],
      "metadata": {
        "id": "QKEg_HOnqoYD"
      }
    },
    {
      "cell_type": "code",
      "source": [
        "def f(**kwargs):\n",
        "  print(kwargs)\n",
        "  print(type(kwargs))\n",
        "  for key, val in kwargs.items():\n",
        "    print(key, '->', val)\n",
        "\n",
        "f(foo=1, bar=2, baz=3)\n"
      ],
      "metadata": {
        "colab": {
          "base_uri": "https://localhost:8080/"
        },
        "id": "yM0IQG62qsQC",
        "outputId": "5f8d18a4-8c47-45d9-f814-4967db6ca624"
      },
      "execution_count": 21,
      "outputs": [
        {
          "output_type": "stream",
          "name": "stdout",
          "text": [
            "{'foo': 1, 'bar': 2, 'baz': 3}\n",
            "<class 'dict'>\n",
            "foo -> 1\n",
            "bar -> 2\n",
            "baz -> 3\n"
          ]
        }
      ]
    },
    {
      "cell_type": "markdown",
      "source": [
        "**Argument Dictionary Unpacking**"
      ],
      "metadata": {
        "id": "B11AHwtDruTu"
      }
    },
    {
      "cell_type": "code",
      "source": [
        "def f(a, b, c):\n",
        "  print(F'a = {a}')\n",
        "  print(F'b = {b}')\n",
        "  print(F'c = {c}')\n",
        "d = {'a': 'foo', 'b': 25, 'c': 'qux'}\n",
        "f(**d)\n"
      ],
      "metadata": {
        "colab": {
          "base_uri": "https://localhost:8080/"
        },
        "id": "PpvcmUKsrxkE",
        "outputId": "81f165ce-6b4d-4119-b9b3-68a13b4e4645"
      },
      "execution_count": 22,
      "outputs": [
        {
          "output_type": "stream",
          "name": "stdout",
          "text": [
            "a = foo\n",
            "b = 25\n",
            "c = qux\n"
          ]
        }
      ]
    },
    {
      "cell_type": "markdown",
      "source": [
        "The items in the dictionary d are unpacked and passed to f() as keyword arguments. So, f(**d) is equivalent to f(a='foo', b=25, c='qux')"
      ],
      "metadata": {
        "id": "rFwHVcnow3ie"
      }
    },
    {
      "cell_type": "markdown",
      "source": [
        "#Generator"
      ],
      "metadata": {
        "id": "KCucQN8MyA2n"
      }
    },
    {
      "cell_type": "markdown",
      "source": [
        "In Python, a generator is a function that returns an iterator that produces a sequence of values when iterated over.\n",
        "\n",
        "Generators are useful when we want to produce a large sequence of values, but we don't want to store all of them in memory at once.\n",
        "\n"
      ],
      "metadata": {
        "id": "IhWE3z7kyC16"
      }
    },
    {
      "cell_type": "markdown",
      "source": [
        "We can define a generator function using a def keyword and instead of using return we use yield keyword. yield is used to produce results from generator.\n",
        "When the generator function is called, it does not execute the function body immediately. Instead, it returns a generator object that can be iterated over to produce the values.\n",
        "\n"
      ],
      "metadata": {
        "id": "PK6n_0pfyODB"
      }
    },
    {
      "cell_type": "code",
      "source": [
        "def my_generator(n):\n",
        "    value = 0\n",
        "    while value < n:\n",
        "        yield value\n",
        "        value += 1\n",
        "\n",
        "# iterate over the generator object produced by my_generator\n",
        "for value in my_generator(3):\n",
        "\n",
        "    # print each value produced by generator\n",
        "    print(value)"
      ],
      "metadata": {
        "colab": {
          "base_uri": "https://localhost:8080/"
        },
        "id": "u1ztDFn1yczL",
        "outputId": "c284870e-cee4-4120-cf90-2e54bedf3a74"
      },
      "execution_count": 25,
      "outputs": [
        {
          "output_type": "stream",
          "name": "stdout",
          "text": [
            "0\n",
            "1\n",
            "2\n"
          ]
        }
      ]
    },
    {
      "cell_type": "code",
      "source": [
        "generator = my_generator(3)\n",
        "print(next(generator))\n",
        "print(next(generator))\n",
        "print(next(generator))"
      ],
      "metadata": {
        "colab": {
          "base_uri": "https://localhost:8080/"
        },
        "id": "6FUA5eVjyq7E",
        "outputId": "483eb31b-a4c7-4644-f0a1-c135411b444c"
      },
      "execution_count": 26,
      "outputs": [
        {
          "output_type": "stream",
          "name": "stdout",
          "text": [
            "0\n",
            "1\n",
            "2\n"
          ]
        }
      ]
    },
    {
      "cell_type": "markdown",
      "source": [
        "Multiple generators can be used to pipeline a series of operations. This is best illustrated using an example.\n",
        "\n",
        "Suppose we have a generator that produces the numbers in the Fibonacci series. And we have another generator for squaring numbers.\n",
        "\n",
        "If we want to find out the sum of squares of numbers in the Fibonacci series, we can do it in the following way by pipelining the output of generator functions together.\n",
        "\n"
      ],
      "metadata": {
        "id": "AgDKEUGMzDCK"
      }
    },
    {
      "cell_type": "code",
      "source": [
        "def fibonacci_numbers(nums):\n",
        "    x, y = 0, 1\n",
        "    for _ in range(nums):\n",
        "        x, y = y, x+y\n",
        "        yield x\n",
        "\n",
        "def square(nums):\n",
        "    for num in nums:\n",
        "        yield num**2\n",
        "\n",
        "print(sum(square(fibonacci_numbers(10))))\n",
        "\n"
      ],
      "metadata": {
        "colab": {
          "base_uri": "https://localhost:8080/"
        },
        "id": "_oAfDjUPzDdU",
        "outputId": "670101d5-d858-4367-ee09-b3d494cc3ca2"
      },
      "execution_count": 27,
      "outputs": [
        {
          "output_type": "stream",
          "name": "stdout",
          "text": [
            "4895\n"
          ]
        }
      ]
    },
    {
      "cell_type": "code",
      "source": [],
      "metadata": {
        "id": "xPZAIfdvzGDu"
      },
      "execution_count": null,
      "outputs": []
    }
  ]
}