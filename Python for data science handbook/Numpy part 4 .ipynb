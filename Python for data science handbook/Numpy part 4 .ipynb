{
 "cells": [
  {
   "cell_type": "code",
   "execution_count": 1,
   "id": "3a9a1222",
   "metadata": {},
   "outputs": [],
   "source": [
    "import numpy as np"
   ]
  },
  {
   "cell_type": "markdown",
   "id": "15164610",
   "metadata": {},
   "source": [
    "# Exploring fancy indexing"
   ]
  },
  {
   "cell_type": "code",
   "execution_count": 2,
   "id": "9a65e141",
   "metadata": {},
   "outputs": [
    {
     "data": {
      "text/plain": [
       "array([ 8, 77, 65, 43, 43, 85,  8, 69, 20,  9], dtype=int64)"
      ]
     },
     "execution_count": 2,
     "metadata": {},
     "output_type": "execute_result"
    }
   ],
   "source": [
    "from numpy import random\n",
    "rng=random.default_rng(42)\n",
    "x=rng.integers(100,size=10)\n",
    "x"
   ]
  },
  {
   "cell_type": "code",
   "execution_count": 3,
   "id": "3862d034",
   "metadata": {},
   "outputs": [
    {
     "data": {
      "text/plain": [
       "[43, 69, 65]"
      ]
     },
     "execution_count": 3,
     "metadata": {},
     "output_type": "execute_result"
    }
   ],
   "source": [
    "[x[3],x[7],x[2]] # to access 3 different elements"
   ]
  },
  {
   "cell_type": "code",
   "execution_count": 4,
   "id": "f398ab59",
   "metadata": {},
   "outputs": [
    {
     "data": {
      "text/plain": [
       "array([43, 69, 43], dtype=int64)"
      ]
     },
     "execution_count": 4,
     "metadata": {},
     "output_type": "execute_result"
    }
   ],
   "source": [
    "# alternative approach\n",
    "ind = [3,7,4] # these are the indices\n",
    "x[ind]"
   ]
  },
  {
   "cell_type": "code",
   "execution_count": 5,
   "id": "52dded63",
   "metadata": {},
   "outputs": [
    {
     "data": {
      "text/plain": [
       "array([[43, 69],\n",
       "       [43, 85]], dtype=int64)"
      ]
     },
     "execution_count": 5,
     "metadata": {},
     "output_type": "execute_result"
    }
   ],
   "source": [
    "# shape of rslt reflects shape of index arrays\n",
    "ind = np.array([[3,7],\n",
    "               [4,5]])\n",
    "x[ind]"
   ]
  },
  {
   "cell_type": "code",
   "execution_count": 6,
   "id": "1d0c5e67",
   "metadata": {},
   "outputs": [
    {
     "data": {
      "text/plain": [
       "array([[ 0,  1,  2,  3],\n",
       "       [ 4,  5,  6,  7],\n",
       "       [ 8,  9, 10, 11]])"
      ]
     },
     "execution_count": 6,
     "metadata": {},
     "output_type": "execute_result"
    }
   ],
   "source": [
    "x = np.arange(12).reshape((3,4))\n",
    "x"
   ]
  },
  {
   "cell_type": "code",
   "execution_count": 7,
   "id": "08ffad87",
   "metadata": {},
   "outputs": [
    {
     "data": {
      "text/plain": [
       "array([ 2,  5, 11])"
      ]
     },
     "execution_count": 7,
     "metadata": {},
     "output_type": "execute_result"
    }
   ],
   "source": [
    "row = np.array([0,1,2])\n",
    "col = np.array([2,1,3])\n",
    "x[row,col]"
   ]
  },
  {
   "cell_type": "markdown",
   "id": "48d3edbe",
   "metadata": {},
   "source": [
    "first value in the result is <mark>x[0,2]</mark>,2nd value is <mark>x[1,1]</mark> and the third is <mark>x[2,3]</mark>.The pairing of indices in fancy indexing follows all the broadcasting rules."
   ]
  },
  {
   "cell_type": "code",
   "execution_count": 8,
   "id": "f7558f08",
   "metadata": {},
   "outputs": [
    {
     "data": {
      "text/plain": [
       "array([[ 2,  1,  3],\n",
       "       [ 6,  5,  7],\n",
       "       [10,  9, 11]])"
      ]
     },
     "execution_count": 8,
     "metadata": {},
     "output_type": "execute_result"
    }
   ],
   "source": [
    "x[row[:,np.newaxis],col]"
   ]
  },
  {
   "cell_type": "code",
   "execution_count": 9,
   "id": "df33915c",
   "metadata": {},
   "outputs": [
    {
     "data": {
      "text/plain": [
       "array([[0, 0, 0],\n",
       "       [2, 1, 3],\n",
       "       [4, 2, 6]])"
      ]
     },
     "execution_count": 9,
     "metadata": {},
     "output_type": "execute_result"
    }
   ],
   "source": [
    "row[:,np.newaxis]*col"
   ]
  },
  {
   "cell_type": "markdown",
   "id": "eb444ed3",
   "metadata": {},
   "source": [
    "# Combined Indexing"
   ]
  },
  {
   "cell_type": "code",
   "execution_count": 10,
   "id": "aea827de",
   "metadata": {},
   "outputs": [
    {
     "data": {
      "text/plain": [
       "array([[ 0,  1,  2,  3],\n",
       "       [ 4,  5,  6,  7],\n",
       "       [ 8,  9, 10, 11]])"
      ]
     },
     "execution_count": 10,
     "metadata": {},
     "output_type": "execute_result"
    }
   ],
   "source": [
    "x"
   ]
  },
  {
   "cell_type": "code",
   "execution_count": 11,
   "id": "77142e44",
   "metadata": {},
   "outputs": [
    {
     "data": {
      "text/plain": [
       "array([10,  8,  9])"
      ]
     },
     "execution_count": 11,
     "metadata": {},
     "output_type": "execute_result"
    }
   ],
   "source": [
    "# we can combine fancy with simple indexing\n",
    "x[2,[2,0,1]]"
   ]
  },
  {
   "cell_type": "code",
   "execution_count": 12,
   "id": "ede7dd40",
   "metadata": {},
   "outputs": [
    {
     "data": {
      "text/plain": [
       "array([[ 6,  4,  5],\n",
       "       [10,  8,  9]])"
      ]
     },
     "execution_count": 12,
     "metadata": {},
     "output_type": "execute_result"
    }
   ],
   "source": [
    "x[1:,[2,0,1]]"
   ]
  },
  {
   "cell_type": "code",
   "execution_count": 13,
   "id": "fc18a841",
   "metadata": {},
   "outputs": [
    {
     "data": {
      "text/plain": [
       "array([[ 0,  2],\n",
       "       [ 4,  6],\n",
       "       [ 8, 10]])"
      ]
     },
     "execution_count": 13,
     "metadata": {},
     "output_type": "execute_result"
    }
   ],
   "source": [
    "# fancy indexing with masking\n",
    "mask = np.array([1,0,1,0],dtype=bool)\n",
    "x[row[:,np.newaxis],mask]"
   ]
  },
  {
   "cell_type": "markdown",
   "id": "6e93342b",
   "metadata": {},
   "source": [
    "# Example: Selecting Random Points"
   ]
  },
  {
   "cell_type": "markdown",
   "id": "a6e75566",
   "metadata": {},
   "source": [
    "One common use of fancy indexing is the selection of subsets of rows from a matrix."
   ]
  },
  {
   "cell_type": "code",
   "execution_count": 14,
   "id": "cc951999",
   "metadata": {},
   "outputs": [
    {
     "data": {
      "text/plain": [
       "(100, 2)"
      ]
     },
     "execution_count": 14,
     "metadata": {},
     "output_type": "execute_result"
    }
   ],
   "source": [
    "mean = [0,0]\n",
    "cov = [[1,2],\n",
    "      [2,5]]\n",
    "x = np.random.multivariate_normal(mean,cov,100)\n",
    "x.shape"
   ]
  },
  {
   "cell_type": "markdown",
   "id": "46d5dd20",
   "metadata": {},
   "source": [
    "The multivariate normal, multinormal or Gaussian distribution is a generalization of the one-dimensional normal distribution to higher dimensions. Such a distribution is specified by its mean and covariance matrix."
   ]
  },
  {
   "cell_type": "code",
   "execution_count": 15,
   "id": "d2ac0f0c",
   "metadata": {},
   "outputs": [
    {
     "data": {
      "image/png": "[encoded data removed]",
      "text/plain": [
       "<Figure size 640x480 with 1 Axes>"
      ]
     },
     "metadata": {},
     "output_type": "display_data"
    }
   ],
   "source": [
    "%matplotlib inline\n",
    "import matplotlib.pyplot as plt\n",
    "import seaborn; seaborn.set() # for plot styline\n",
    "plt.scatter(x[:,0],x[:,1]);"
   ]
  },
  {
   "cell_type": "code",
   "execution_count": 16,
   "id": "c4c795ee",
   "metadata": {},
   "outputs": [
    {
     "data": {
      "text/plain": [
       "array([51, 98, 17, 14, 87, 89, 48,  8, 27, 31,  3, 15, 76, 35, 73,  7, 75,\n",
       "        1, 23, 53])"
      ]
     },
     "execution_count": 16,
     "metadata": {},
     "output_type": "execute_result"
    }
   ],
   "source": [
    "# using fancy indexing to select 20 random points.\n",
    "indices = np.random.choice(x.shape[0],20,replace=False)\n",
    "indices"
   ]
  },
  {
   "cell_type": "code",
   "execution_count": 17,
   "id": "a66ec843",
   "metadata": {},
   "outputs": [
    {
     "data": {
      "text/plain": [
       "(20, 2)"
      ]
     },
     "execution_count": 17,
     "metadata": {},
     "output_type": "execute_result"
    }
   ],
   "source": [
    "selection = x[indices]\n",
    "selection.shape"
   ]
  },
  {
   "cell_type": "code",
   "execution_count": 18,
   "id": "2b93940a",
   "metadata": {},
   "outputs": [
    {
     "data": {
      "image/png": "[encoded data removed]",
      "text/plain": [
       "<Figure size 640x480 with 1 Axes>"
      ]
     },
     "metadata": {},
     "output_type": "display_data"
    }
   ],
   "source": [
    "# to see which points are selected\n",
    "plt.scatter(x[:,0],x[:,1],alpha=0.3)\n",
    "plt.scatter(selection[:,0],selection[:,1],facecolor='none',s=500);"
   ]
  },
  {
   "cell_type": "markdown",
   "id": "f219d595",
   "metadata": {},
   "source": [
    "# Modifying values with fancy indexing"
   ]
  },
  {
   "cell_type": "code",
   "execution_count": 19,
   "id": "3818305c",
   "metadata": {},
   "outputs": [
    {
     "name": "stdout",
     "output_type": "stream",
     "text": [
      "[ 0 99 99  3 99  5  6  7 99  9]\n"
     ]
    }
   ],
   "source": [
    "x = np.arange(10)\n",
    "i = np.array([2,1,8,4])\n",
    "x[i]=99\n",
    "print(x)"
   ]
  },
  {
   "cell_type": "code",
   "execution_count": 20,
   "id": "62aaa30f",
   "metadata": {},
   "outputs": [
    {
     "name": "stdout",
     "output_type": "stream",
     "text": [
      "[ 0 89 89  3 89  5  6  7 89  9]\n"
     ]
    }
   ],
   "source": [
    "x[i] -=10 \n",
    "print(x)"
   ]
  },
  {
   "cell_type": "markdown",
   "id": "866cb7ff",
   "metadata": {},
   "source": [
    "Repeated indices with these operations can cause some potentially unexpected results"
   ]
  },
  {
   "cell_type": "code",
   "execution_count": 21,
   "id": "63756274",
   "metadata": {},
   "outputs": [
    {
     "data": {
      "text/plain": [
       "array([6., 0., 0., 0., 0., 0., 0., 0., 0., 0.])"
      ]
     },
     "execution_count": 21,
     "metadata": {},
     "output_type": "execute_result"
    }
   ],
   "source": [
    "x = np.zeros(10)\n",
    "x[[0,0]] = [4,6]\n",
    "x"
   ]
  },
  {
   "cell_type": "markdown",
   "id": "250f85ca",
   "metadata": {},
   "source": [
    "Where did the 4 go? The result of this operation is to first assign <mark>x[0] = 4</mark>, followed by <mark>x[0] = 6</mark>. The result, of course, is that <mark>x[0]</mark> contains the value 6.\n",
    "\n",
    "Fair enough,"
   ]
  },
  {
   "cell_type": "code",
   "execution_count": 22,
   "id": "3c5da90b",
   "metadata": {},
   "outputs": [
    {
     "data": {
      "text/plain": [
       "array([6., 0., 1., 1., 1., 0., 0., 0., 0., 0.])"
      ]
     },
     "execution_count": 22,
     "metadata": {},
     "output_type": "execute_result"
    }
   ],
   "source": [
    "i =[2,3,3,4,4,4]\n",
    "x[i] +=1\n",
    "x"
   ]
  },
  {
   "cell_type": "markdown",
   "id": "39c6e115",
   "metadata": {},
   "source": [
    "You might expect that <mark>x[3]</mark> would contain the value 2, and <mark>x[4]</mark> would contain the value 3, as this is how many times each index is repeated. Why is this not the case? Conceptually, this is because <mark>x[i] += 1</mark> is meant as a shorthand of <mark>x[i] = x[i] + 1</mark>. <mark>x[i] + 1</mark> is evaluated, and then the result is assigned to the indices in x. With this in mind, it is not the augmentation that happens multiple times, but the assignment, which leads to the rather nonintuitive results."
   ]
  },
  {
   "cell_type": "markdown",
   "id": "05d1bd51",
   "metadata": {},
   "source": [
    " if you want the other behavior where the operation is repeated? For this, you can use the <mark>at()</mark> method of ufuncs "
   ]
  },
  {
   "cell_type": "code",
   "execution_count": 35,
   "id": "a7cf7fd6",
   "metadata": {},
   "outputs": [
    {
     "data": {
      "text/plain": [
       "array([0., 0., 1., 2., 3., 0., 0., 0., 0., 0.])"
      ]
     },
     "execution_count": 35,
     "metadata": {},
     "output_type": "execute_result"
    }
   ],
   "source": [
    "x = np.zeros(10)\n",
    "np.add.at(x,i,1) # inplcace \n",
    "x "
   ]
  },
  {
   "cell_type": "markdown",
   "id": "d8357f5e",
   "metadata": {},
   "source": [
    "# Example : Bining Data"
   ]
  },
  {
   "cell_type": "markdown",
   "id": "70b0b7b9",
   "metadata": {},
   "source": [
    "You can use these ideas to efficiently bin data to create a histogram by hand. For example, imagine we have 1,000 values and would like to quickly find where they fall within an array of bins. We could compute it using <mark>ufunc.at</mark> like this:"
   ]
  },
  {
   "cell_type": "code",
   "execution_count": 36,
   "id": "945a552f",
   "metadata": {},
   "outputs": [],
   "source": [
    "np.random.seed(42)\n",
    "x = np.random.randn(100)\n",
    "#compute hist by hand\n",
    "bins=np.linspace(-5,5,20)\n",
    "counts=np.zeros_like(bins)\n",
    "#find the appropriate bin for each x\n",
    "i = np.searchsorted(bins,x)\n",
    "#add 1 to each of these bins\n",
    "np.add.at(counts,i,1)"
   ]
  },
  {
   "attachments": {
    "image.png": {
     "image/png": "[encoded data removed]"
    }
   },
   "cell_type": "markdown",
   "id": "91d92e8c",
   "metadata": {},
   "source": [
    "![image.png](attachment:image.png)"
   ]
  },
  {
   "attachments": {
    "image.png": {
     "image/png": "[encoded data removed]"
    }
   },
   "cell_type": "markdown",
   "id": "df03e25f",
   "metadata": {},
   "source": [
    "![image.png](attachment:image.png)"
   ]
  },
  {
   "cell_type": "code",
   "execution_count": 40,
   "id": "1f975e37",
   "metadata": {},
   "outputs": [
    {
     "data": {
      "image/png": "[encoded data removed]",
      "text/plain": [
       "<Figure size 640x480 with 1 Axes>"
      ]
     },
     "metadata": {},
     "output_type": "display_data"
    }
   ],
   "source": [
    "plt.plot(bins,counts);"
   ]
  },
  {
   "cell_type": "code",
   "execution_count": 41,
   "id": "5ba8d231",
   "metadata": {},
   "outputs": [
    {
     "data": {
      "image/png": "[encoded data removed]",
      "text/plain": [
       "<Figure size 640x480 with 1 Axes>"
      ]
     },
     "metadata": {},
     "output_type": "display_data"
    }
   ],
   "source": [
    "plt.hist(x,bins,histtype='step');"
   ]
  },
  {
   "cell_type": "markdown",
   "id": "b501d809",
   "metadata": {},
   "source": [
    "To compute the binning, matplotlib uses the <mark>np.histogram</mark> function, which does a very similar computation to what we did before. Let's compare the two here:"
   ]
  },
  {
   "cell_type": "code",
   "execution_count": 42,
   "id": "f3dfa7c2",
   "metadata": {},
   "outputs": [
    {
     "name": "stdout",
     "output_type": "stream",
     "text": [
      "numpy routine:\n",
      "20 µs ± 1.03 µs per loop (mean ± std. dev. of 7 runs, 10,000 loops each)\n",
      "custom routine:\n",
      "13.4 µs ± 427 ns per loop (mean ± std. dev. of 7 runs, 100,000 loops each)\n"
     ]
    }
   ],
   "source": [
    "print('numpy routine:')\n",
    "%timeit counts,edges = np.histogram(x,bins)\n",
    "\n",
    "print(\"custom routine:\")\n",
    "%timeit np.add.at(counts,np.searchsorted(bins,x),1)"
   ]
  },
  {
   "cell_type": "code",
   "execution_count": 43,
   "id": "8229b23d",
   "metadata": {},
   "outputs": [
    {
     "name": "stdout",
     "output_type": "stream",
     "text": [
      "NumPy routine:\n",
      "56.5 ms ± 1.33 ms per loop (mean ± std. dev. of 7 runs, 10 loops each)\n",
      "Custom routine:\n",
      "91.8 ms ± 8.01 ms per loop (mean ± std. dev. of 7 runs, 10 loops each)\n"
     ]
    }
   ],
   "source": [
    "x = np.random.randn(1000000)\n",
    "print(\"NumPy routine:\")\n",
    "%timeit counts, edges = np.histogram(x, bins)\n",
    "\n",
    "print(\"Custom routine:\")\n",
    "%timeit np.add.at(counts, np.searchsorted(bins, x), 1)"
   ]
  },
  {
   "cell_type": "markdown",
   "id": "60ff6579",
   "metadata": {},
   "source": [
    "What this comparison shows is that algorithmic efficiency is almost never a simple question. An algorithm efficient for large datasets will not always be the best choice for small datasets, and vice versa . But the advantage of coding this algorithm yourself is that with an understanding of these basic methods, you could use these building blocks to extend this to do some very interesting custom behaviors. The key to efficiently using Python in data-intensive applications is knowing about general convenience routines like <mark>np.histogram</mark> and when they're appropriate, but also knowing how to make use of lower-level functionality when you need more pointed behavior."
   ]
  },
  {
   "cell_type": "markdown",
   "id": "a130ee39",
   "metadata": {},
   "source": [
    "# Fast Sorting in Numpy: <mark>np.sort</mark> and <mark>np.argsort</mark>"
   ]
  },
  {
   "cell_type": "markdown",
   "id": "ca4894f1",
   "metadata": {},
   "source": [
    "Although Python has built-in sort and sorted functions to work with lists, we won't discuss them here because NumPy's <mark>np.sort</mark> function turns out to be much more efficient and useful for our purposes. By default <mark>np.sort</mark> uses an <b>O[NlogN]</b>\n",
    ", quicksort algorithm, though mergesort and heapsort are also available. For most applications, the default quicksort is more than sufficient."
   ]
  },
  {
   "cell_type": "code",
   "execution_count": 44,
   "id": "f35fd091",
   "metadata": {},
   "outputs": [
    {
     "data": {
      "text/plain": [
       "array([1, 2, 3, 4, 5])"
      ]
     },
     "execution_count": 44,
     "metadata": {},
     "output_type": "execute_result"
    }
   ],
   "source": [
    "x=np.array([2,1,4,3,5])\n",
    "np.sort(x)"
   ]
  },
  {
   "cell_type": "code",
   "execution_count": 45,
   "id": "4eb64599",
   "metadata": {},
   "outputs": [
    {
     "name": "stdout",
     "output_type": "stream",
     "text": [
      "[1 2 3 4 5]\n"
     ]
    }
   ],
   "source": [
    "# to sort in place\n",
    "x.sort()\n",
    "print(x)"
   ]
  },
  {
   "cell_type": "code",
   "execution_count": 46,
   "id": "1c7ab5b8",
   "metadata": {},
   "outputs": [
    {
     "name": "stdout",
     "output_type": "stream",
     "text": [
      "[1 0 3 2 4]\n"
     ]
    }
   ],
   "source": [
    "x=np.array([2,1,4,3,5])\n",
    "i=np.argsort(x) # returns the indices of the sorted elemens\n",
    "print(i)"
   ]
  },
  {
   "cell_type": "code",
   "execution_count": 47,
   "id": "ce7215a1",
   "metadata": {},
   "outputs": [
    {
     "data": {
      "text/plain": [
       "array([1, 2, 3, 4, 5])"
      ]
     },
     "execution_count": 47,
     "metadata": {},
     "output_type": "execute_result"
    }
   ],
   "source": [
    "x[i]"
   ]
  },
  {
   "cell_type": "markdown",
   "id": "81fe93ec",
   "metadata": {},
   "source": [
    "## Sorting along rows and columns"
   ]
  },
  {
   "cell_type": "code",
   "execution_count": 48,
   "id": "d31024e0",
   "metadata": {},
   "outputs": [
    {
     "data": {
      "text/plain": [
       "array([[0, 7, 6, 4, 4, 8],\n",
       "       [0, 6, 2, 0, 5, 9],\n",
       "       [7, 7, 7, 7, 5, 1],\n",
       "       [8, 4, 5, 3, 1, 9]], dtype=int64)"
      ]
     },
     "execution_count": 48,
     "metadata": {},
     "output_type": "execute_result"
    }
   ],
   "source": [
    "rng=random.default_rng(42)\n",
    "x=rng.integers(0,10,(4,6))\n",
    "x"
   ]
  },
  {
   "cell_type": "code",
   "execution_count": 49,
   "id": "4fd78a30",
   "metadata": {},
   "outputs": [
    {
     "data": {
      "text/plain": [
       "array([[0, 4, 2, 0, 1, 1],\n",
       "       [0, 6, 5, 3, 4, 8],\n",
       "       [7, 7, 6, 4, 5, 9],\n",
       "       [8, 7, 7, 7, 5, 9]], dtype=int64)"
      ]
     },
     "execution_count": 49,
     "metadata": {},
     "output_type": "execute_result"
    }
   ],
   "source": [
    "np.sort(x,axis=0)"
   ]
  },
  {
   "cell_type": "code",
   "execution_count": 50,
   "id": "70133b41",
   "metadata": {},
   "outputs": [
    {
     "data": {
      "text/plain": [
       "array([[0, 4, 4, 6, 7, 8],\n",
       "       [0, 0, 2, 5, 6, 9],\n",
       "       [1, 5, 7, 7, 7, 7],\n",
       "       [1, 3, 4, 5, 8, 9]], dtype=int64)"
      ]
     },
     "execution_count": 50,
     "metadata": {},
     "output_type": "execute_result"
    }
   ],
   "source": [
    "np.sort(x,axis=1)"
   ]
  },
  {
   "cell_type": "markdown",
   "id": "624f74b4",
   "metadata": {},
   "source": [
    "# Partial Sorts: Partitioning"
   ]
  },
  {
   "cell_type": "markdown",
   "id": "bf3479c7",
   "metadata": {},
   "source": [
    "Sometimes we're not interested in sorting the entire array, but simply want to find the k smallest values in the array.Numpy provides this in the <mark>np.partition</mark> function.<mark>np.partition</mark> takes an arrat and a number k; the result is a new array with the smallest k values to the left and the remaining values to the right,in arbitary order"
   ]
  },
  {
   "cell_type": "code",
   "execution_count": 51,
   "id": "906b187d",
   "metadata": {},
   "outputs": [
    {
     "data": {
      "text/plain": [
       "array([2, 1, 3, 4, 6, 5, 7])"
      ]
     },
     "execution_count": 51,
     "metadata": {},
     "output_type": "execute_result"
    }
   ],
   "source": [
    "x = np.array([7,2,3,1,6,5,4])\n",
    "np.partition(x,3)"
   ]
  },
  {
   "cell_type": "code",
   "execution_count": 52,
   "id": "81340df9",
   "metadata": {},
   "outputs": [],
   "source": [
    "# along row and col\n",
    "rng=random.default_rng(42)\n",
    "x=rng.integers(0,10,(4,6))"
   ]
  },
  {
   "cell_type": "code",
   "execution_count": 53,
   "id": "e2456525",
   "metadata": {},
   "outputs": [
    {
     "data": {
      "text/plain": [
       "array([[0, 4, 4, 7, 6, 8],\n",
       "       [0, 0, 2, 6, 5, 9],\n",
       "       [1, 5, 7, 7, 7, 7],\n",
       "       [1, 3, 4, 5, 8, 9]], dtype=int64)"
      ]
     },
     "execution_count": 53,
     "metadata": {},
     "output_type": "execute_result"
    }
   ],
   "source": [
    "np.partition(x,2,axis=1)"
   ]
  },
  {
   "cell_type": "markdown",
   "id": "f4509449",
   "metadata": {},
   "source": [
    "The result is an array where the first two slots in each row contain the smallest values from that row, with the remaining values filling the remaining slots.\n",
    "\n",
    "Finally, just as there is a <mark>np.argsort</mark> that computes indices of the sort, there is a <mark>np.argpartition</mark> that computes indices of the partition. "
   ]
  },
  {
   "cell_type": "markdown",
   "id": "6e742c84",
   "metadata": {},
   "source": [
    "# Example: K-Nearest Neighbors"
   ]
  },
  {
   "cell_type": "code",
   "execution_count": 26,
   "id": "6fcc09c6",
   "metadata": {},
   "outputs": [],
   "source": [
    "x = np.random.random((10,2))"
   ]
  },
  {
   "cell_type": "code",
   "execution_count": 27,
   "id": "a9c2c582",
   "metadata": {},
   "outputs": [
    {
     "data": {
      "text/plain": [
       "<matplotlib.collections.PathCollection at 0x1be4573bcd0>"
      ]
     },
     "execution_count": 27,
     "metadata": {},
     "output_type": "execute_result"
    },
    {
     "data": {
      "image/png": "[encoded data removed]",
      "text/plain": [
       "<Figure size 640x480 with 1 Axes>"
      ]
     },
     "metadata": {},
     "output_type": "display_data"
    }
   ],
   "source": [
    "%matplotlib inline\n",
    "import matplotlib.pyplot as plt\n",
    "import seaborn; seaborn.set()\n",
    "plt.scatter(x[:,0],x[:,1],s=100)"
   ]
  },
  {
   "cell_type": "markdown",
   "id": "38534d6c",
   "metadata": {},
   "source": [
    "Now we'll compute the distance between each pair of points"
   ]
  },
  {
   "cell_type": "code",
   "execution_count": 33,
   "id": "1229ac01",
   "metadata": {},
   "outputs": [],
   "source": [
    "dist_sq =np.sum((x[:,np.newaxis,:]-x[np.newaxis,:,:])**2,axis=-1)"
   ]
  },
  {
   "cell_type": "code",
   "execution_count": 29,
   "id": "62721cc4",
   "metadata": {},
   "outputs": [
    {
     "data": {
      "text/plain": [
       "array([[0.73689265, 0.09985892],\n",
       "       [0.74645188, 0.98915006],\n",
       "       [0.41855767, 0.33376414],\n",
       "       [0.38754254, 0.40319782],\n",
       "       [0.86450562, 0.16486654],\n",
       "       [0.92537327, 0.66560821],\n",
       "       [0.53893804, 0.13939897],\n",
       "       [0.24091662, 0.41439925],\n",
       "       [0.18752783, 0.68825168],\n",
       "       [0.9880402 , 0.1495697 ]])"
      ]
     },
     "execution_count": 29,
     "metadata": {},
     "output_type": "execute_result"
    }
   ],
   "source": [
    "x"
   ]
  },
  {
   "cell_type": "code",
   "execution_count": 34,
   "id": "36ea7eaa",
   "metadata": {},
   "outputs": [
    {
     "data": {
      "text/plain": [
       "(10, 10, 2)"
      ]
     },
     "execution_count": 34,
     "metadata": {},
     "output_type": "execute_result"
    }
   ],
   "source": [
    "# for each pair of points,compute differences in their coordinates\n",
    "differences =x[:,np.newaxis,:]-x[np.newaxis,:,:]\n",
    "differences.shape"
   ]
  },
  {
   "cell_type": "code",
   "execution_count": 35,
   "id": "b3beb11d",
   "metadata": {},
   "outputs": [
    {
     "data": {
      "text/plain": [
       "(10, 10, 2)"
      ]
     },
     "execution_count": 35,
     "metadata": {},
     "output_type": "execute_result"
    }
   ],
   "source": [
    "# square the coordinate differences\n",
    "sq_differences=differences**2\n",
    "sq_differences.shape"
   ]
  },
  {
   "cell_type": "code",
   "execution_count": 36,
   "id": "5c03d7df",
   "metadata": {},
   "outputs": [
    {
     "data": {
      "text/plain": [
       "(10, 10)"
      ]
     },
     "execution_count": 36,
     "metadata": {},
     "output_type": "execute_result"
    }
   ],
   "source": [
    "# sum the coordinate differences to get the  squared distance\n",
    "dist_sq =sq_differences.sum(-1)\n",
    "dist_sq.shape"
   ]
  },
  {
   "cell_type": "markdown",
   "id": "0a229184",
   "metadata": {},
   "source": [
    "Just to double-check what we are doing, we should see that the diagonal of this matrix (i.e., the set of distances between each point and itself) is all zero:"
   ]
  },
  {
   "cell_type": "code",
   "execution_count": 37,
   "id": "e0b62625",
   "metadata": {},
   "outputs": [
    {
     "data": {
      "text/plain": [
       "array([0., 0., 0., 0., 0., 0., 0., 0., 0., 0.])"
      ]
     },
     "execution_count": 37,
     "metadata": {},
     "output_type": "execute_result"
    }
   ],
   "source": [
    "dist_sq.diagonal()"
   ]
  },
  {
   "cell_type": "markdown",
   "id": "2fc2891a",
   "metadata": {},
   "source": [
    "It checks out! With the pairwise square-distances converted, we can now use <mark>np.argsort</mark> to sort along each row. The leftmost columns will then give the indices of the nearest neighbors:"
   ]
  },
  {
   "cell_type": "code",
   "execution_count": 40,
   "id": "3a7207d3",
   "metadata": {},
   "outputs": [
    {
     "name": "stdout",
     "output_type": "stream",
     "text": [
      "[[0 4 6 9 2 3 7 5 8 1]\n",
      " [1 5 8 3 2 7 4 9 6 0]\n",
      " [2 3 7 6 0 8 4 9 5 1]\n",
      " [3 2 7 6 8 0 4 5 9 1]\n",
      " [4 9 0 6 2 5 3 7 1 8]\n",
      " [5 1 4 9 0 3 2 6 7 8]\n",
      " [6 0 2 3 4 7 9 8 5 1]\n",
      " [7 3 2 8 6 0 4 5 1 9]\n",
      " [8 7 3 2 1 6 5 0 4 9]\n",
      " [9 4 0 6 5 2 3 7 1 8]]\n"
     ]
    }
   ],
   "source": [
    "nearest = np.argsort(dist_sq , axis=1)\n",
    "print(nearest)"
   ]
  },
  {
   "cell_type": "markdown",
   "id": "44ca97e8",
   "metadata": {},
   "source": [
    "Notice that the first column gives the numbers 0 through 9 in order: this is due to the fact that each point's closest neighbor is itself, as we would expect.\n",
    "\n",
    "By using a full sort here, we've actually done more work than we need to in this case. If we're simply interested in the nearest k\n",
    " neighbors, all we need is to partition each row so that the smallest k+1\n",
    " squared distances come first, with larger distances filling the remaining positions of the array. We can do this with the <mark>np.argpartition</mark> function:"
   ]
  },
  {
   "cell_type": "code",
   "execution_count": 41,
   "id": "e57b4886",
   "metadata": {},
   "outputs": [],
   "source": [
    "K = 2\n",
    "nearest_partition = np.argpartition(dist_sq, K + 1, axis=1)"
   ]
  },
  {
   "cell_type": "markdown",
   "id": "6f8f25c3",
   "metadata": {},
   "source": [
    "In order to visualize this network of neighbors, let's quickly plot the points along with lines representing the connections from each point to its two nearest neighbors:"
   ]
  },
  {
   "cell_type": "code",
   "execution_count": 42,
   "id": "a6870561",
   "metadata": {},
   "outputs": [
    {
     "data": {
      "image/png": "[encoded data removed]",
      "text/plain": [
       "<Figure size 640x480 with 1 Axes>"
      ]
     },
     "metadata": {},
     "output_type": "display_data"
    }
   ],
   "source": [
    "plt.scatter(x[:,0],x[:,1],s=100)\n",
    "k=2\n",
    "for i in range(x.shape[0]):\n",
    "    for j in nearest_partition[i,:K+1]:\n",
    "        plt.plot(*zip(x[j],x[i]),color='black')"
   ]
  },
  {
   "cell_type": "markdown",
   "id": "19553308",
   "metadata": {},
   "source": [
    "*zip([],[]) do unpacking, like *zip([1,2,3],[4,5,6]) do (1,4),(2,5),(3,6)"
   ]
  },
  {
   "cell_type": "markdown",
   "id": "5d9772b6",
   "metadata": {},
   "source": [
    "Each point in the plot has lines drawn to its two nearest neighbors. At first glance, it might seem strange that some of the points have more than two lines coming out of them: this is due to the fact that if point A is one of the two nearest neighbors of point B, this does not necessarily imply that point B is one of the two nearest neighbors of point A.\n",
    "\n",
    "Although the broadcasting and row-wise sorting of this approach might seem less straightforward than writing a loop, it turns out to be a very efficient way of operating on this data in Python. You might be tempted to do the same type of operation by manually looping through the data and sorting each set of neighbors individually, but this would almost certainly lead to a slower algorithm than the vectorized version we used. The beauty of this approach is that it's written in a way that's agnostic to the size of the input data: we could just as easily compute the neighbors among 100 or 1,000,000 points in any number of dimensions, and the code would look the same.\n",
    "\n",
    "Finally, I'll note that when doing very large nearest neighbor searches, there are tree-based and/or approximate algorithms that can scale as O[NlogN]\n",
    " or better rather than the O[N2]\n",
    " of the brute-force algorithm. One example of this is the KD-Tree,"
   ]
  },
  {
   "cell_type": "code",
   "execution_count": null,
   "id": "41295854",
   "metadata": {},
   "outputs": [],
   "source": []
  }
 ],
 "metadata": {
  "kernelspec": {
   "display_name": "Python 3 (ipykernel)",
   "language": "python",
   "name": "python3"
  },
  "language_info": {
   "codemirror_mode": {
    "name": "ipython",
    "version": 3
   },
   "file_extension": ".py",
   "mimetype": "text/x-python",
   "name": "python",
   "nbconvert_exporter": "python",
   "pygments_lexer": "ipython3",
   "version": "3.11.5"
  }
 },
 "nbformat": 4,
 "nbformat_minor": 5
}
