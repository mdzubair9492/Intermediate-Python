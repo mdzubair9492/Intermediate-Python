{
 "cells": [
  {
   "cell_type": "markdown",
   "id": "9b2831e7",
   "metadata": {},
   "source": [
    "# Accessing Documentation with ?"
   ]
  },
  {
   "cell_type": "markdown",
   "id": "9146564b",
   "metadata": {},
   "source": [
    "Every python object contains the reference to a string, known as a doc string, which in most cases will contain a concise summary of the object and how to use it. python has built in help() function that can access this information and prints the results."
   ]
  },
  {
   "cell_type": "code",
   "execution_count": 1,
   "id": "242ed0fc",
   "metadata": {},
   "outputs": [
    {
     "name": "stdout",
     "output_type": "stream",
     "text": [
      "Help on built-in function len in module builtins:\n",
      "\n",
      "len(obj, /)\n",
      "    Return the number of items in a container.\n",
      "\n"
     ]
    }
   ],
   "source": [
    "help(len)"
   ]
  },
  {
   "cell_type": "markdown",
   "id": "e03839f8",
   "metadata": {},
   "source": [
    "Ipython introduces the ? character as a shorthand for accessing this documentation and other relevant information"
   ]
  },
  {
   "cell_type": "code",
   "execution_count": 2,
   "id": "b3c5d36f",
   "metadata": {},
   "outputs": [],
   "source": [
    "len?"
   ]
  },
  {
   "cell_type": "code",
   "execution_count": 3,
   "id": "48db66f0",
   "metadata": {},
   "outputs": [],
   "source": [
    "L =[1,2,3] # work for methods also\n",
    "L.insert?"
   ]
  },
  {
   "cell_type": "code",
   "execution_count": 4,
   "id": "cc50317d",
   "metadata": {},
   "outputs": [],
   "source": [
    "L?"
   ]
  },
  {
   "cell_type": "code",
   "execution_count": 5,
   "id": "97779056",
   "metadata": {},
   "outputs": [],
   "source": [
    "def square(a):\n",
    "    \"\"\"Return the square of a\"\"\" # for docstring we need to put a string here inside a func\n",
    "    return a**2"
   ]
  },
  {
   "cell_type": "code",
   "execution_count": 6,
   "id": "600877da",
   "metadata": {},
   "outputs": [],
   "source": [
    "square?"
   ]
  },
  {
   "cell_type": "markdown",
   "id": "1c5b0562",
   "metadata": {},
   "source": [
    "# Accessing source code with ??"
   ]
  },
  {
   "cell_type": "code",
   "execution_count": 7,
   "id": "65bc4242",
   "metadata": {},
   "outputs": [],
   "source": [
    "square??"
   ]
  },
  {
   "cell_type": "markdown",
   "id": "9e653bd4",
   "metadata": {},
   "source": [
    "Sometimes ?? suffix doesn't display any source code: this is generally because the object in question is not implemented in python, but in c or some other compiled extension language.Then it will act like ?"
   ]
  },
  {
   "cell_type": "code",
   "execution_count": 8,
   "id": "6e46ef10",
   "metadata": {},
   "outputs": [],
   "source": [
    "len??"
   ]
  },
  {
   "cell_type": "markdown",
   "id": "b183a484",
   "metadata": {},
   "source": [
    "# Exploring Tab Completion"
   ]
  },
  {
   "cell_type": "markdown",
   "id": "b623c4ed",
   "metadata": {},
   "source": [
    "Every python object has various attributes and methods associated with it. This can be accessed by <b>TAB</b>  . The way of getting it first we need to type the object name followed by (.) and the Tab key"
   ]
  },
  {
   "cell_type": "code",
   "execution_count": null,
   "id": "5489a48d",
   "metadata": {},
   "outputs": [],
   "source": [
    "L.<TAB>"
   ]
  },
  {
   "cell_type": "markdown",
   "id": "d72ac0e9",
   "metadata": {},
   "source": [
    "Though Python has no strictly-enforced distinction between public/external attributes and private/internal attributes, by convention a preceding underscore is used to denote such methods. For clarity, these private methods and special methods are omitted from the list by default, but it's possible to list them by explicitly typing the underscore:"
   ]
  },
  {
   "cell_type": "code",
   "execution_count": null,
   "id": "d0751067",
   "metadata": {},
   "outputs": [],
   "source": [
    "L._<TAB>"
   ]
  },
  {
   "cell_type": "markdown",
   "id": "f7780208",
   "metadata": {},
   "source": [
    "Tab completion is also useful when importing objects from packages. Here we'll use it to find all possible imports in the itertools package that start with <b>co</b>:"
   ]
  },
  {
   "cell_type": "code",
   "execution_count": null,
   "id": "fe9c608c",
   "metadata": {},
   "outputs": [],
   "source": [
    "from itertools import co<TAB>"
   ]
  },
  {
   "cell_type": "markdown",
   "id": "5b08bbae",
   "metadata": {},
   "source": [
    "One can use tab-completion to see which imports are available on one's system"
   ]
  },
  {
   "cell_type": "code",
   "execution_count": null,
   "id": "af0ac864",
   "metadata": {},
   "outputs": [],
   "source": [
    "import <TAB>"
   ]
  },
  {
   "cell_type": "markdown",
   "id": "6cc4c985",
   "metadata": {},
   "source": [
    "Tab completion is useful if you know the first few characters of the object or attribute you're looking for, but is little help if you'd like to match characters at the middle or end of the word. For this use-case, IPython provides a means of wildcard matching for names using the <b>*</b> character."
   ]
  },
  {
   "cell_type": "markdown",
   "id": "7b5bb880",
   "metadata": {},
   "source": [
    "For example, we can use this to list every object in the namespace that ends with  <b>Warning</b>:"
   ]
  },
  {
   "cell_type": "code",
   "execution_count": 9,
   "id": "72d5da47",
   "metadata": {},
   "outputs": [],
   "source": [
    "*Warning?"
   ]
  },
  {
   "cell_type": "markdown",
   "id": "8a67b3d0",
   "metadata": {},
   "source": [
    " suppose we are looking for a string method that contains the word find somewhere in its name. We can search for it this way:"
   ]
  },
  {
   "cell_type": "code",
   "execution_count": 10,
   "id": "4dcb6acd",
   "metadata": {},
   "outputs": [],
   "source": [
    "str.*find*?"
   ]
  },
  {
   "cell_type": "markdown",
   "id": "771607fc",
   "metadata": {},
   "source": [
    "# Keyboard Shortcuts"
   ]
  },
  {
   "cell_type": "markdown",
   "id": "1762d2a2",
   "metadata": {},
   "source": [
    "<ol>\n",
    "     <li><mark>Ctrl-a</mark>                        Move cursor to the begining of the line</li>\n",
    "    <li><mark>Ctrl-k</mark>                         Move cursor to the end of the line</li>\n",
    "    <li><mark>Ctrl-b</mark> or the lest arrow key   Move cursor back one character</li>\n",
    "    <li><mark>Ctrl-f</mark> or the right arrow key  Move cursor forward one character</li>\n",
    "    <li><mark>Ctrl-d</mark>                         Delete next character in line</li>\n",
    "    <li><mark>Ctrl-k</mark>                         Cut text from cursor to end of line</li>\n",
    "    <li><mark>Ctrl-u</mark>                         Cut text from begining of line to cursor</li>\n",
    "    <li><mark>Ctrl-y</mark>                         Yank(i.e.paste) text that was previously cut</li>\n",
    "    <li><mark>Ctrl-t</mark>                         Transpose(i.e,switch) previous two characters</li>\n",
    "    <li><mark>Ctrl-p</mark>(or the up arrow key)    Access previous command in history</li>\n",
    "    <li><mark>Ctrl-n</mark>(or the down arrow key)  Access next command in history</li>\n",
    "    <li><mark>Ctrl-r</mark>                         Reverse-search through command history</li>\n",
    "    <li><mark>Ctrl-l</mark>                         Clear terminal screen</li>\n",
    "    <li><mark>Ctrl-c</mark>                         Interrupt current python command</li>\n",
    "    <li><mark>Ctrl-d</mark>                         Exit IPython session</li>\n",
    "</ol>\n",
    "        "
   ]
  },
  {
   "cell_type": "markdown",
   "id": "2290d41a",
   "metadata": {},
   "source": [
    "# IPython Magic Commands"
   ]
  },
  {
   "cell_type": "markdown",
   "id": "740c4e77",
   "metadata": {},
   "source": [
    "These are the enhancements that IPython adds on top of the normal Python syntax.These are known in IPython as <i>magic commands</i>, and ae prefixed by the <mark>%</mark>character. These magic commands are designed to succinctly solve various common problems in standard data analysis.Magic commands come in two flavours:<i>line magics</i>,which are denoted by a single <mark>%</mark> prefix and operate on a single line of input, and <i>cell magics</i>,which are denoted by a double <mark>%%</mark> prefix and operate on multiple lines on input."
   ]
  },
  {
   "cell_type": "markdown",
   "id": "262a8c70",
   "metadata": {},
   "source": [
    "## Running External Code: <mark>%run</mark>"
   ]
  },
  {
   "cell_type": "markdown",
   "id": "3ed2c873",
   "metadata": {},
   "source": [
    "As you begin developing more extensive code, you will likely find yourself working in both IPython for interactive exploration, as well as a text editor to store code that you want to reuse. Rather than running this code in a new window, it can be convenient to run it within your IPython session. This can be done with the <mark> %run </mark>magic.\n",
    "\n",
    "For example, imagine you've created a <mark>myscript.py </mark>file with the following contents:"
   ]
  },
  {
   "cell_type": "code",
   "execution_count": 3,
   "id": "49350b77",
   "metadata": {},
   "outputs": [
    {
     "name": "stdout",
     "output_type": "stream",
     "text": [
      "1 squared is 1\n",
      "2 squared is 4\n",
      "3 squared is 9\n"
     ]
    }
   ],
   "source": [
    "#-------------------------------------\n",
    "# file: myscript.py\n",
    "\n",
    "def square(x):\n",
    "    \"\"\"square a number\"\"\"\n",
    "    return x ** 2\n",
    "\n",
    "for N in range(1, 4):\n",
    "    print(N, \"squared is\", square(N))"
   ]
  },
  {
   "cell_type": "code",
   "execution_count": null,
   "id": "2d33ebf2",
   "metadata": {},
   "outputs": [],
   "source": [
    "#to run the myscript.py\n",
    "%run myscript.py"
   ]
  },
  {
   "cell_type": "markdown",
   "id": "a555c9ac",
   "metadata": {},
   "source": [
    "after you've run this script, any functions defined within it are available for use in your IPython session:"
   ]
  },
  {
   "cell_type": "markdown",
   "id": "d93bb03c",
   "metadata": {},
   "source": [
    "## Timing Code Execution: <mark>%timeit</mark>"
   ]
  },
  {
   "cell_type": "markdown",
   "id": "addcfd9e",
   "metadata": {},
   "source": [
    "To generating automatically the execution time of single line python statement we can use <mark>%timeit</mark>"
   ]
  },
  {
   "cell_type": "code",
   "execution_count": 5,
   "id": "9e833b5c",
   "metadata": {},
   "outputs": [
    {
     "name": "stdout",
     "output_type": "stream",
     "text": [
      "207 µs ± 19.9 µs per loop (mean ± std. dev. of 7 runs, 10,000 loops each)\n"
     ]
    }
   ],
   "source": [
    "%timeit L = [n**2 for n in range(1000)]"
   ]
  },
  {
   "cell_type": "markdown",
   "id": "c5583bd9",
   "metadata": {},
   "source": [
    "for multiple lines we need to use <mark> %%timeit</mark>"
   ]
  },
  {
   "cell_type": "code",
   "execution_count": 6,
   "id": "9affe661",
   "metadata": {},
   "outputs": [
    {
     "name": "stdout",
     "output_type": "stream",
     "text": [
      "241 µs ± 17.2 µs per loop (mean ± std. dev. of 7 runs, 1,000 loops each)\n"
     ]
    }
   ],
   "source": [
    "%%timeit\n",
    "l=[]\n",
    "for n in range(1000):\n",
    "    l.append(n**2)\n"
   ]
  },
  {
   "cell_type": "markdown",
   "id": "d2ff02ab",
   "metadata": {},
   "source": [
    "## Help on Magic Functions: <mark>?</mark>,<mark>%magic</mark>, and <mark>%lsmagic</mark>"
   ]
  },
  {
   "cell_type": "code",
   "execution_count": 7,
   "id": "cc13dbc1",
   "metadata": {},
   "outputs": [],
   "source": [
    "# to read the documentation of %timeit\n",
    "%timeit?"
   ]
  },
  {
   "cell_type": "code",
   "execution_count": 8,
   "id": "704d52ff",
   "metadata": {},
   "outputs": [],
   "source": [
    "#To access a general description of available magic func, including ex,\n",
    "%magic"
   ]
  },
  {
   "cell_type": "code",
   "execution_count": 9,
   "id": "26e7d8c0",
   "metadata": {},
   "outputs": [
    {
     "data": {
      "application/json": {
       "cell": {
        "!": "OSMagics",
        "HTML": "Other",
        "SVG": "Other",
        "bash": "Other",
        "capture": "ExecutionMagics",
        "cmd": "Other",
        "code_wrap": "ExecutionMagics",
        "debug": "ExecutionMagics",
        "file": "Other",
        "html": "DisplayMagics",
        "javascript": "DisplayMagics",
        "js": "DisplayMagics",
        "latex": "DisplayMagics",
        "markdown": "DisplayMagics",
        "perl": "Other",
        "prun": "ExecutionMagics",
        "pypy": "Other",
        "python": "Other",
        "python2": "Other",
        "python3": "Other",
        "ruby": "Other",
        "script": "ScriptMagics",
        "sh": "Other",
        "svg": "DisplayMagics",
        "sx": "OSMagics",
        "system": "OSMagics",
        "time": "ExecutionMagics",
        "timeit": "ExecutionMagics",
        "writefile": "OSMagics"
       },
       "line": {
        "alias": "OSMagics",
        "alias_magic": "BasicMagics",
        "autoawait": "AsyncMagics",
        "autocall": "AutoMagics",
        "automagic": "AutoMagics",
        "autosave": "KernelMagics",
        "bookmark": "OSMagics",
        "cd": "OSMagics",
        "clear": "KernelMagics",
        "cls": "KernelMagics",
        "code_wrap": "ExecutionMagics",
        "colors": "BasicMagics",
        "conda": "PackagingMagics",
        "config": "ConfigMagics",
        "connect_info": "KernelMagics",
        "copy": "Other",
        "ddir": "Other",
        "debug": "ExecutionMagics",
        "dhist": "OSMagics",
        "dirs": "OSMagics",
        "doctest_mode": "BasicMagics",
        "echo": "Other",
        "ed": "Other",
        "edit": "KernelMagics",
        "env": "OSMagics",
        "gui": "BasicMagics",
        "hist": "Other",
        "history": "HistoryMagics",
        "killbgscripts": "ScriptMagics",
        "ldir": "Other",
        "less": "KernelMagics",
        "load": "CodeMagics",
        "load_ext": "ExtensionMagics",
        "loadpy": "CodeMagics",
        "logoff": "LoggingMagics",
        "logon": "LoggingMagics",
        "logstart": "LoggingMagics",
        "logstate": "LoggingMagics",
        "logstop": "LoggingMagics",
        "ls": "Other",
        "lsmagic": "BasicMagics",
        "macro": "ExecutionMagics",
        "magic": "BasicMagics",
        "matplotlib": "PylabMagics",
        "mkdir": "Other",
        "more": "KernelMagics",
        "notebook": "BasicMagics",
        "page": "BasicMagics",
        "pastebin": "CodeMagics",
        "pdb": "ExecutionMagics",
        "pdef": "NamespaceMagics",
        "pdoc": "NamespaceMagics",
        "pfile": "NamespaceMagics",
        "pinfo": "NamespaceMagics",
        "pinfo2": "NamespaceMagics",
        "pip": "PackagingMagics",
        "popd": "OSMagics",
        "pprint": "BasicMagics",
        "precision": "BasicMagics",
        "prun": "ExecutionMagics",
        "psearch": "NamespaceMagics",
        "psource": "NamespaceMagics",
        "pushd": "OSMagics",
        "pwd": "OSMagics",
        "pycat": "OSMagics",
        "pylab": "PylabMagics",
        "qtconsole": "KernelMagics",
        "quickref": "BasicMagics",
        "recall": "HistoryMagics",
        "rehashx": "OSMagics",
        "reload_ext": "ExtensionMagics",
        "ren": "Other",
        "rep": "Other",
        "rerun": "HistoryMagics",
        "reset": "NamespaceMagics",
        "reset_selective": "NamespaceMagics",
        "rmdir": "Other",
        "run": "ExecutionMagics",
        "save": "CodeMagics",
        "sc": "OSMagics",
        "set_env": "OSMagics",
        "store": "StoreMagics",
        "sx": "OSMagics",
        "system": "OSMagics",
        "tb": "ExecutionMagics",
        "time": "ExecutionMagics",
        "timeit": "ExecutionMagics",
        "unalias": "OSMagics",
        "unload_ext": "ExtensionMagics",
        "who": "NamespaceMagics",
        "who_ls": "NamespaceMagics",
        "whos": "NamespaceMagics",
        "xdel": "NamespaceMagics",
        "xmode": "BasicMagics"
       }
      },
      "text/plain": [
       "Available line magics:\n",
       "%alias  %alias_magic  %autoawait  %autocall  %automagic  %autosave  %bookmark  %cd  %clear  %cls  %code_wrap  %colors  %conda  %config  %connect_info  %copy  %ddir  %debug  %dhist  %dirs  %doctest_mode  %echo  %ed  %edit  %env  %gui  %hist  %history  %killbgscripts  %ldir  %less  %load  %load_ext  %loadpy  %logoff  %logon  %logstart  %logstate  %logstop  %ls  %lsmagic  %macro  %magic  %matplotlib  %mkdir  %more  %notebook  %page  %pastebin  %pdb  %pdef  %pdoc  %pfile  %pinfo  %pinfo2  %pip  %popd  %pprint  %precision  %prun  %psearch  %psource  %pushd  %pwd  %pycat  %pylab  %qtconsole  %quickref  %recall  %rehashx  %reload_ext  %ren  %rep  %rerun  %reset  %reset_selective  %rmdir  %run  %save  %sc  %set_env  %store  %sx  %system  %tb  %time  %timeit  %unalias  %unload_ext  %who  %who_ls  %whos  %xdel  %xmode\n",
       "\n",
       "Available cell magics:\n",
       "%%!  %%HTML  %%SVG  %%bash  %%capture  %%cmd  %%code_wrap  %%debug  %%file  %%html  %%javascript  %%js  %%latex  %%markdown  %%perl  %%prun  %%pypy  %%python  %%python2  %%python3  %%ruby  %%script  %%sh  %%svg  %%sx  %%system  %%time  %%timeit  %%writefile\n",
       "\n",
       "Automagic is ON, % prefix IS NOT needed for line magics."
      ]
     },
     "execution_count": 9,
     "metadata": {},
     "output_type": "execute_result"
    }
   ],
   "source": [
    "# to get a quick and simple list of all available magic function,\n",
    "%lsmagic"
   ]
  },
  {
   "cell_type": "markdown",
   "id": "9f383eda",
   "metadata": {},
   "source": [
    "# Input and Output History"
   ]
  },
  {
   "cell_type": "markdown",
   "id": "4997ff3b",
   "metadata": {},
   "source": [
    "In both the shell and the notebook, IPython exposes several ways to obtain the output of previous commands, as well as string versions of the commands themselves"
   ]
  },
  {
   "cell_type": "markdown",
   "id": "8884b815",
   "metadata": {},
   "source": [
    "## IPython's <mark> In </mark> and <mark> Out </mark> Objects"
   ]
  },
  {
   "cell_type": "code",
   "execution_count": 10,
   "id": "398c5632",
   "metadata": {},
   "outputs": [],
   "source": [
    "import math\n"
   ]
  },
  {
   "cell_type": "code",
   "execution_count": 11,
   "id": "8c9227fb",
   "metadata": {},
   "outputs": [
    {
     "data": {
      "text/plain": [
       "0.9092974268256817"
      ]
     },
     "execution_count": 11,
     "metadata": {},
     "output_type": "execute_result"
    }
   ],
   "source": [
    "math.sin(2)"
   ]
  },
  {
   "cell_type": "code",
   "execution_count": 12,
   "id": "2799f6cd",
   "metadata": {},
   "outputs": [
    {
     "data": {
      "text/plain": [
       "-0.4161468365471424"
      ]
     },
     "execution_count": 12,
     "metadata": {},
     "output_type": "execute_result"
    }
   ],
   "source": [
    "math.cos(2)"
   ]
  },
  {
   "cell_type": "code",
   "execution_count": 13,
   "id": "3ae4b7ad",
   "metadata": {},
   "outputs": [
    {
     "name": "stdout",
     "output_type": "stream",
     "text": [
      "['', 'def donothing(x):\\n    return x', \"get_ipython().run_line_magic('ipython', '')\", '#-------------------------------------\\n# file: myscript.py\\n\\ndef square(x):\\n    \"\"\"square a number\"\"\"\\n    return x ** 2\\n\\nfor N in range(1, 4):\\n    print(N, \"squared is\", square(N))', \"# to run this python file i need to do like,\\nget_ipython().run_line_magic('run', 'myscript.py')\", \"get_ipython().run_line_magic('timeit', 'L = [n**2 for n in range(1000)]')\", \"get_ipython().run_cell_magic('timeit', '', 'l=[]\\\\nfor n in range(1000):\\\\n    l.append(n**2)\\\\n')\", \"# to read the documentation of %timeit\\nget_ipython().run_line_magic('pinfo', '%timeit')\", \"#To access a general description of available magic func, including ex,\\nget_ipython().run_line_magic('magic', '')\", \"# to get a quick and simple list of all available magic function,\\nget_ipython().run_line_magic('lsmagic', '')\", 'import math', 'math.sin(2)', 'math.cos(2)', 'print(In)']\n"
     ]
    }
   ],
   "source": [
    "print(In)"
   ]
  },
  {
   "cell_type": "markdown",
   "id": "bb657a97",
   "metadata": {},
   "source": [
    "The <mark> In </mark> object is a list,which keeps track of the commmands in order"
   ]
  },
  {
   "cell_type": "code",
   "execution_count": 14,
   "id": "9e5c1566",
   "metadata": {},
   "outputs": [
    {
     "name": "stdout",
     "output_type": "stream",
     "text": [
      "def donothing(x):\n",
      "    return x\n"
     ]
    }
   ],
   "source": [
    "print(In[1])"
   ]
  },
  {
   "cell_type": "code",
   "execution_count": 15,
   "id": "d03f1928",
   "metadata": {},
   "outputs": [
    {
     "name": "stdout",
     "output_type": "stream",
     "text": [
      "{9: <IPython.core.magics.basic.MagicsDisplay object at 0x000002767B44CFD0>, 11: 0.9092974268256817, 12: -0.4161468365471424}\n"
     ]
    }
   ],
   "source": [
    "print(Out)"
   ]
  },
  {
   "cell_type": "markdown",
   "id": "489fa92b",
   "metadata": {},
   "source": [
    "It is because <mark>Out</mark> object is not a list but a dictionary mapping input numbers to their outputs"
   ]
  },
  {
   "cell_type": "code",
   "execution_count": 17,
   "id": "fe4c0858",
   "metadata": {},
   "outputs": [
    {
     "name": "stdout",
     "output_type": "stream",
     "text": [
      "Available line magics:\n",
      "%alias  %alias_magic  %autoawait  %autocall  %automagic  %autosave  %bookmark  %cd  %clear  %cls  %code_wrap  %colors  %conda  %config  %connect_info  %copy  %ddir  %debug  %dhist  %dirs  %doctest_mode  %echo  %ed  %edit  %env  %gui  %hist  %history  %killbgscripts  %ldir  %less  %load  %load_ext  %loadpy  %logoff  %logon  %logstart  %logstate  %logstop  %ls  %lsmagic  %macro  %magic  %matplotlib  %mkdir  %more  %notebook  %page  %pastebin  %pdb  %pdef  %pdoc  %pfile  %pinfo  %pinfo2  %pip  %popd  %pprint  %precision  %prun  %psearch  %psource  %pushd  %pwd  %pycat  %pylab  %qtconsole  %quickref  %recall  %rehashx  %reload_ext  %ren  %rep  %rerun  %reset  %reset_selective  %rmdir  %run  %save  %sc  %set_env  %store  %sx  %system  %tb  %time  %timeit  %unalias  %unload_ext  %who  %who_ls  %whos  %xdel  %xmode\n",
      "\n",
      "Available cell magics:\n",
      "%%!  %%HTML  %%SVG  %%bash  %%capture  %%cmd  %%code_wrap  %%debug  %%file  %%html  %%javascript  %%js  %%latex  %%markdown  %%perl  %%prun  %%pypy  %%python  %%python2  %%python3  %%ruby  %%script  %%sh  %%svg  %%sx  %%system  %%time  %%timeit  %%writefile\n",
      "\n",
      "Automagic is ON, % prefix IS NOT needed for line magics.\n"
     ]
    }
   ],
   "source": [
    "print(Out[9])"
   ]
  },
  {
   "cell_type": "markdown",
   "id": "ba4b1c87",
   "metadata": {},
   "source": [
    "Note that not all operations have outputs: for example, <mark>import</mark> statements and <mark>print</mark> statements don't affect the output. The latter may be surprising, but makes sense if you consider that <mark>print</mark> is a function that returns <mark>None</mark>; for brevity, any command that returns <mark>None</mark> is not added to Out."
   ]
  },
  {
   "cell_type": "code",
   "execution_count": 18,
   "id": "85d4a1ea",
   "metadata": {},
   "outputs": [
    {
     "data": {
      "text/plain": [
       "1.0"
      ]
     },
     "execution_count": 18,
     "metadata": {},
     "output_type": "execute_result"
    }
   ],
   "source": [
    "# it is useful when we want to interact with past results\n",
    "Out[11]**2 + Out[12]**2"
   ]
  },
  {
   "cell_type": "markdown",
   "id": "9215a2fd",
   "metadata": {},
   "source": [
    "## Underscore Shortcuts and Previous Outputs"
   ]
  },
  {
   "cell_type": "markdown",
   "id": "c02fca66",
   "metadata": {},
   "source": [
    "The standard Python shell contains just one simple shortcut for accessing previous output; the variable _ (i.e., a single underscore) is kept updated with the previous output; this works in IPython as well:"
   ]
  },
  {
   "cell_type": "code",
   "execution_count": 19,
   "id": "d4eee10d",
   "metadata": {},
   "outputs": [
    {
     "name": "stdout",
     "output_type": "stream",
     "text": [
      "1.0\n"
     ]
    }
   ],
   "source": [
    "print(_)"
   ]
  },
  {
   "cell_type": "markdown",
   "id": "c4280f55",
   "metadata": {},
   "source": [
    "But IPython takes this a bit further—you can use a double underscore to access the second-to-last output, and a triple underscore to access the third-to-last output (skipping any commands with no output):\n",
    "\n"
   ]
  },
  {
   "cell_type": "code",
   "execution_count": 20,
   "id": "708c7f54",
   "metadata": {},
   "outputs": [
    {
     "name": "stdout",
     "output_type": "stream",
     "text": [
      "-0.4161468365471424\n"
     ]
    }
   ],
   "source": [
    "print(__)"
   ]
  },
  {
   "cell_type": "code",
   "execution_count": 21,
   "id": "24286d78",
   "metadata": {},
   "outputs": [
    {
     "name": "stdout",
     "output_type": "stream",
     "text": [
      "0.9092974268256817\n"
     ]
    }
   ],
   "source": [
    "print(___)"
   ]
  },
  {
   "cell_type": "markdown",
   "id": "711b06fe",
   "metadata": {},
   "source": [
    "IPython stops there: more than three underscores starts to get a bit hard to count, and at that point it's easier to refer to the output by line number."
   ]
  },
  {
   "cell_type": "markdown",
   "id": "7ac76de0",
   "metadata": {},
   "source": [
    "There is one more shortcut we should mention, however–a shorthand for <mark>Out[X]</mark> is <mark>_X</mark> (i.e., a single underscore followed by the line number):"
   ]
  },
  {
   "cell_type": "code",
   "execution_count": 22,
   "id": "310a6bed",
   "metadata": {},
   "outputs": [
    {
     "data": {
      "application/json": {
       "cell": {
        "!": "OSMagics",
        "HTML": "Other",
        "SVG": "Other",
        "bash": "Other",
        "capture": "ExecutionMagics",
        "cmd": "Other",
        "code_wrap": "ExecutionMagics",
        "debug": "ExecutionMagics",
        "file": "Other",
        "html": "DisplayMagics",
        "javascript": "DisplayMagics",
        "js": "DisplayMagics",
        "latex": "DisplayMagics",
        "markdown": "DisplayMagics",
        "perl": "Other",
        "prun": "ExecutionMagics",
        "pypy": "Other",
        "python": "Other",
        "python2": "Other",
        "python3": "Other",
        "ruby": "Other",
        "script": "ScriptMagics",
        "sh": "Other",
        "svg": "DisplayMagics",
        "sx": "OSMagics",
        "system": "OSMagics",
        "time": "ExecutionMagics",
        "timeit": "ExecutionMagics",
        "writefile": "OSMagics"
       },
       "line": {
        "alias": "OSMagics",
        "alias_magic": "BasicMagics",
        "autoawait": "AsyncMagics",
        "autocall": "AutoMagics",
        "automagic": "AutoMagics",
        "autosave": "KernelMagics",
        "bookmark": "OSMagics",
        "cd": "OSMagics",
        "clear": "KernelMagics",
        "cls": "KernelMagics",
        "code_wrap": "ExecutionMagics",
        "colors": "BasicMagics",
        "conda": "PackagingMagics",
        "config": "ConfigMagics",
        "connect_info": "KernelMagics",
        "copy": "Other",
        "ddir": "Other",
        "debug": "ExecutionMagics",
        "dhist": "OSMagics",
        "dirs": "OSMagics",
        "doctest_mode": "BasicMagics",
        "echo": "Other",
        "ed": "Other",
        "edit": "KernelMagics",
        "env": "OSMagics",
        "gui": "BasicMagics",
        "hist": "Other",
        "history": "HistoryMagics",
        "killbgscripts": "ScriptMagics",
        "ldir": "Other",
        "less": "KernelMagics",
        "load": "CodeMagics",
        "load_ext": "ExtensionMagics",
        "loadpy": "CodeMagics",
        "logoff": "LoggingMagics",
        "logon": "LoggingMagics",
        "logstart": "LoggingMagics",
        "logstate": "LoggingMagics",
        "logstop": "LoggingMagics",
        "ls": "Other",
        "lsmagic": "BasicMagics",
        "macro": "ExecutionMagics",
        "magic": "BasicMagics",
        "matplotlib": "PylabMagics",
        "mkdir": "Other",
        "more": "KernelMagics",
        "notebook": "BasicMagics",
        "page": "BasicMagics",
        "pastebin": "CodeMagics",
        "pdb": "ExecutionMagics",
        "pdef": "NamespaceMagics",
        "pdoc": "NamespaceMagics",
        "pfile": "NamespaceMagics",
        "pinfo": "NamespaceMagics",
        "pinfo2": "NamespaceMagics",
        "pip": "PackagingMagics",
        "popd": "OSMagics",
        "pprint": "BasicMagics",
        "precision": "BasicMagics",
        "prun": "ExecutionMagics",
        "psearch": "NamespaceMagics",
        "psource": "NamespaceMagics",
        "pushd": "OSMagics",
        "pwd": "OSMagics",
        "pycat": "OSMagics",
        "pylab": "PylabMagics",
        "qtconsole": "KernelMagics",
        "quickref": "BasicMagics",
        "recall": "HistoryMagics",
        "rehashx": "OSMagics",
        "reload_ext": "ExtensionMagics",
        "ren": "Other",
        "rep": "Other",
        "rerun": "HistoryMagics",
        "reset": "NamespaceMagics",
        "reset_selective": "NamespaceMagics",
        "rmdir": "Other",
        "run": "ExecutionMagics",
        "save": "CodeMagics",
        "sc": "OSMagics",
        "set_env": "OSMagics",
        "store": "StoreMagics",
        "sx": "OSMagics",
        "system": "OSMagics",
        "tb": "ExecutionMagics",
        "time": "ExecutionMagics",
        "timeit": "ExecutionMagics",
        "unalias": "OSMagics",
        "unload_ext": "ExtensionMagics",
        "who": "NamespaceMagics",
        "who_ls": "NamespaceMagics",
        "whos": "NamespaceMagics",
        "xdel": "NamespaceMagics",
        "xmode": "BasicMagics"
       }
      },
      "text/plain": [
       "Available line magics:\n",
       "%alias  %alias_magic  %autoawait  %autocall  %automagic  %autosave  %bookmark  %cd  %clear  %cls  %code_wrap  %colors  %conda  %config  %connect_info  %copy  %ddir  %debug  %dhist  %dirs  %doctest_mode  %echo  %ed  %edit  %env  %gui  %hist  %history  %killbgscripts  %ldir  %less  %load  %load_ext  %loadpy  %logoff  %logon  %logstart  %logstate  %logstop  %ls  %lsmagic  %macro  %magic  %matplotlib  %mkdir  %more  %notebook  %page  %pastebin  %pdb  %pdef  %pdoc  %pfile  %pinfo  %pinfo2  %pip  %popd  %pprint  %precision  %prun  %psearch  %psource  %pushd  %pwd  %pycat  %pylab  %qtconsole  %quickref  %recall  %rehashx  %reload_ext  %ren  %rep  %rerun  %reset  %reset_selective  %rmdir  %run  %save  %sc  %set_env  %store  %sx  %system  %tb  %time  %timeit  %unalias  %unload_ext  %who  %who_ls  %whos  %xdel  %xmode\n",
       "\n",
       "Available cell magics:\n",
       "%%!  %%HTML  %%SVG  %%bash  %%capture  %%cmd  %%code_wrap  %%debug  %%file  %%html  %%javascript  %%js  %%latex  %%markdown  %%perl  %%prun  %%pypy  %%python  %%python2  %%python3  %%ruby  %%script  %%sh  %%svg  %%sx  %%system  %%time  %%timeit  %%writefile\n",
       "\n",
       "Automagic is ON, % prefix IS NOT needed for line magics."
      ]
     },
     "execution_count": 22,
     "metadata": {},
     "output_type": "execute_result"
    }
   ],
   "source": [
    "Out[9]"
   ]
  },
  {
   "cell_type": "code",
   "execution_count": 23,
   "id": "1e58742a",
   "metadata": {},
   "outputs": [
    {
     "data": {
      "application/json": {
       "cell": {
        "!": "OSMagics",
        "HTML": "Other",
        "SVG": "Other",
        "bash": "Other",
        "capture": "ExecutionMagics",
        "cmd": "Other",
        "code_wrap": "ExecutionMagics",
        "debug": "ExecutionMagics",
        "file": "Other",
        "html": "DisplayMagics",
        "javascript": "DisplayMagics",
        "js": "DisplayMagics",
        "latex": "DisplayMagics",
        "markdown": "DisplayMagics",
        "perl": "Other",
        "prun": "ExecutionMagics",
        "pypy": "Other",
        "python": "Other",
        "python2": "Other",
        "python3": "Other",
        "ruby": "Other",
        "script": "ScriptMagics",
        "sh": "Other",
        "svg": "DisplayMagics",
        "sx": "OSMagics",
        "system": "OSMagics",
        "time": "ExecutionMagics",
        "timeit": "ExecutionMagics",
        "writefile": "OSMagics"
       },
       "line": {
        "alias": "OSMagics",
        "alias_magic": "BasicMagics",
        "autoawait": "AsyncMagics",
        "autocall": "AutoMagics",
        "automagic": "AutoMagics",
        "autosave": "KernelMagics",
        "bookmark": "OSMagics",
        "cd": "OSMagics",
        "clear": "KernelMagics",
        "cls": "KernelMagics",
        "code_wrap": "ExecutionMagics",
        "colors": "BasicMagics",
        "conda": "PackagingMagics",
        "config": "ConfigMagics",
        "connect_info": "KernelMagics",
        "copy": "Other",
        "ddir": "Other",
        "debug": "ExecutionMagics",
        "dhist": "OSMagics",
        "dirs": "OSMagics",
        "doctest_mode": "BasicMagics",
        "echo": "Other",
        "ed": "Other",
        "edit": "KernelMagics",
        "env": "OSMagics",
        "gui": "BasicMagics",
        "hist": "Other",
        "history": "HistoryMagics",
        "killbgscripts": "ScriptMagics",
        "ldir": "Other",
        "less": "KernelMagics",
        "load": "CodeMagics",
        "load_ext": "ExtensionMagics",
        "loadpy": "CodeMagics",
        "logoff": "LoggingMagics",
        "logon": "LoggingMagics",
        "logstart": "LoggingMagics",
        "logstate": "LoggingMagics",
        "logstop": "LoggingMagics",
        "ls": "Other",
        "lsmagic": "BasicMagics",
        "macro": "ExecutionMagics",
        "magic": "BasicMagics",
        "matplotlib": "PylabMagics",
        "mkdir": "Other",
        "more": "KernelMagics",
        "notebook": "BasicMagics",
        "page": "BasicMagics",
        "pastebin": "CodeMagics",
        "pdb": "ExecutionMagics",
        "pdef": "NamespaceMagics",
        "pdoc": "NamespaceMagics",
        "pfile": "NamespaceMagics",
        "pinfo": "NamespaceMagics",
        "pinfo2": "NamespaceMagics",
        "pip": "PackagingMagics",
        "popd": "OSMagics",
        "pprint": "BasicMagics",
        "precision": "BasicMagics",
        "prun": "ExecutionMagics",
        "psearch": "NamespaceMagics",
        "psource": "NamespaceMagics",
        "pushd": "OSMagics",
        "pwd": "OSMagics",
        "pycat": "OSMagics",
        "pylab": "PylabMagics",
        "qtconsole": "KernelMagics",
        "quickref": "BasicMagics",
        "recall": "HistoryMagics",
        "rehashx": "OSMagics",
        "reload_ext": "ExtensionMagics",
        "ren": "Other",
        "rep": "Other",
        "rerun": "HistoryMagics",
        "reset": "NamespaceMagics",
        "reset_selective": "NamespaceMagics",
        "rmdir": "Other",
        "run": "ExecutionMagics",
        "save": "CodeMagics",
        "sc": "OSMagics",
        "set_env": "OSMagics",
        "store": "StoreMagics",
        "sx": "OSMagics",
        "system": "OSMagics",
        "tb": "ExecutionMagics",
        "time": "ExecutionMagics",
        "timeit": "ExecutionMagics",
        "unalias": "OSMagics",
        "unload_ext": "ExtensionMagics",
        "who": "NamespaceMagics",
        "who_ls": "NamespaceMagics",
        "whos": "NamespaceMagics",
        "xdel": "NamespaceMagics",
        "xmode": "BasicMagics"
       }
      },
      "text/plain": [
       "Available line magics:\n",
       "%alias  %alias_magic  %autoawait  %autocall  %automagic  %autosave  %bookmark  %cd  %clear  %cls  %code_wrap  %colors  %conda  %config  %connect_info  %copy  %ddir  %debug  %dhist  %dirs  %doctest_mode  %echo  %ed  %edit  %env  %gui  %hist  %history  %killbgscripts  %ldir  %less  %load  %load_ext  %loadpy  %logoff  %logon  %logstart  %logstate  %logstop  %ls  %lsmagic  %macro  %magic  %matplotlib  %mkdir  %more  %notebook  %page  %pastebin  %pdb  %pdef  %pdoc  %pfile  %pinfo  %pinfo2  %pip  %popd  %pprint  %precision  %prun  %psearch  %psource  %pushd  %pwd  %pycat  %pylab  %qtconsole  %quickref  %recall  %rehashx  %reload_ext  %ren  %rep  %rerun  %reset  %reset_selective  %rmdir  %run  %save  %sc  %set_env  %store  %sx  %system  %tb  %time  %timeit  %unalias  %unload_ext  %who  %who_ls  %whos  %xdel  %xmode\n",
       "\n",
       "Available cell magics:\n",
       "%%!  %%HTML  %%SVG  %%bash  %%capture  %%cmd  %%code_wrap  %%debug  %%file  %%html  %%javascript  %%js  %%latex  %%markdown  %%perl  %%prun  %%pypy  %%python  %%python2  %%python3  %%ruby  %%script  %%sh  %%svg  %%sx  %%system  %%time  %%timeit  %%writefile\n",
       "\n",
       "Automagic is ON, % prefix IS NOT needed for line magics."
      ]
     },
     "execution_count": 23,
     "metadata": {},
     "output_type": "execute_result"
    }
   ],
   "source": [
    "_9"
   ]
  },
  {
   "cell_type": "markdown",
   "id": "029ae009",
   "metadata": {},
   "source": [
    "## Suppressing Output"
   ]
  },
  {
   "cell_type": "markdown",
   "id": "40287966",
   "metadata": {},
   "source": [
    "Sometimes you might wish to suppress the output of a statement (this is perhaps most common with the plotting commands  Or maybe the command you're executing produces a result that you'd prefer not like to store in your output history.The easiest way to suppress the output of a command is to add a semicolon to the end of the line:"
   ]
  },
  {
   "cell_type": "code",
   "execution_count": 24,
   "id": "8ec36ab4",
   "metadata": {},
   "outputs": [],
   "source": [
    "math.sin(2) + math.cos(2);"
   ]
  },
  {
   "cell_type": "code",
   "execution_count": 25,
   "id": "c146767a",
   "metadata": {},
   "outputs": [
    {
     "data": {
      "text/plain": [
       "False"
      ]
     },
     "execution_count": 25,
     "metadata": {},
     "output_type": "execute_result"
    }
   ],
   "source": [
    "24 in Out"
   ]
  },
  {
   "cell_type": "markdown",
   "id": "00c41eec",
   "metadata": {},
   "source": [
    "## Related Magic Commands"
   ]
  },
  {
   "cell_type": "markdown",
   "id": "f5a0af9e",
   "metadata": {},
   "source": [
    "For accessing a batch of previous inputs at once, the <mark> %history</mark> magic command is very helpful. Here is how you can print the first four inputs:"
   ]
  },
  {
   "cell_type": "code",
   "execution_count": 26,
   "id": "01522789",
   "metadata": {},
   "outputs": [
    {
     "name": "stdout",
     "output_type": "stream",
     "text": [
      "   1:\n",
      "\n",
      ">>> def donothing(x):\n",
      "...     return x\n",
      "   2: %ipython\n",
      "   3:\n",
      "#-------------------------------------\n",
      "# file: myscript.py\n",
      "\n",
      "def square(x):\n",
      "    \"\"\"square a number\"\"\"\n",
      "    return x ** 2\n",
      "\n",
      "for N in range(1, 4):\n",
      "    print(N, \"squared is\", square(N))\n",
      "   4:\n",
      "# to run this python file i need to do like,\n",
      "%run myscript.py\n"
     ]
    }
   ],
   "source": [
    "%history -n 1-4"
   ]
  },
  {
   "cell_type": "markdown",
   "id": "3559b1c8",
   "metadata": {},
   "source": [
    " Other similar magic commands are <mark>%rerun</mark> (which will re-execute some portion of the command history) and <mark>%save</mark> (which saves some set of the command history to a file)."
   ]
  },
  {
   "cell_type": "markdown",
   "id": "7e7626c5",
   "metadata": {},
   "source": [
    "# IPython and Shell Commands"
   ]
  },
  {
   "cell_type": "markdown",
   "id": "c5e026db",
   "metadata": {},
   "source": [
    "IPython provide solution for command line tools. Anything appearing after <mark>!</mark> on a line will be executed not by the python kernel , but by the system command-line."
   ]
  },
  {
   "cell_type": "markdown",
   "id": "feb61224",
   "metadata": {},
   "source": [
    "The shell is a way to interact textually with your computer. Ever since the mid 1980s, when Microsoft and Apple introduced the first versions of their now ubiquitous graphical operating systems, most computer users have interacted with their operating system through familiar clicking of menus and drag-and-drop movements. But operating systems existed long before these graphical user interfaces, and were primarily controlled through sequences of text input: at the prompt, the user would type a command, and the computer would do what the user told it to. Those early prompt systems are the precursors of the shells and terminals that most active data scientists still use today.\n",
    "\n",
    "Someone unfamiliar with the shell might ask why you would bother with this, when many results can be accomplished by simply clicking on icons and menus. A shell user might reply with another question: why hunt icons and click menus when you can accomplish things much more easily by typing? While it might sound like a typical tech preference impasse, when moving beyond basic tasks it quickly becomes clear that the shell offers much more control of advanced tasks, though admittedly the learning curve can intimidate the average computer user."
   ]
  },
  {
   "cell_type": "code",
   "execution_count": 3,
   "id": "f80c81b1",
   "metadata": {},
   "outputs": [
    {
     "name": "stdout",
     "output_type": "stream",
     "text": [
      "\"printing from the shell\"\n"
     ]
    }
   ],
   "source": [
    "!echo \"printing from the shell\""
   ]
  },
  {
   "cell_type": "markdown",
   "id": "08bc71af",
   "metadata": {},
   "source": [
    "## passing values to and from the shell"
   ]
  },
  {
   "cell_type": "code",
   "execution_count": 6,
   "id": "40bbd749",
   "metadata": {},
   "outputs": [],
   "source": [
    "message=\"hellp from Python\"\n"
   ]
  },
  {
   "cell_type": "code",
   "execution_count": 7,
   "id": "4ddf2786",
   "metadata": {},
   "outputs": [
    {
     "name": "stdout",
     "output_type": "stream",
     "text": [
      "hellp from Python\n"
     ]
    }
   ],
   "source": [
    "!echo {message}"
   ]
  },
  {
   "cell_type": "markdown",
   "id": "ff6e4547",
   "metadata": {},
   "source": [
    "## Shell-Related Magic Commands"
   ]
  },
  {
   "cell_type": "markdown",
   "id": "b04ea298",
   "metadata": {},
   "source": [
    "If you play with IPython's shell commands for a while, you might notice that you cannot use <mark>!cd</mark> to navigate the filesystem:"
   ]
  },
  {
   "cell_type": "code",
   "execution_count": 8,
   "id": "bf7b9311",
   "metadata": {},
   "outputs": [
    {
     "name": "stdout",
     "output_type": "stream",
     "text": [
      "C:\\Users\\LENOVO\\Untitled Folder 1\n"
     ]
    }
   ],
   "source": [
    "!cd"
   ]
  },
  {
   "cell_type": "markdown",
   "id": "91c009b9",
   "metadata": {},
   "source": [
    "The reason is that shell commands in the notebook are executed in a temporary subshell. If you'd like to change the working directory in a more enduring way, you can use the <mark>%cd</mark> magic command:"
   ]
  },
  {
   "cell_type": "code",
   "execution_count": 10,
   "id": "d67fd0e1",
   "metadata": {},
   "outputs": [
    {
     "name": "stdout",
     "output_type": "stream",
     "text": [
      "C:\\Users\\LENOVO\n"
     ]
    }
   ],
   "source": [
    "%cd"
   ]
  },
  {
   "cell_type": "code",
   "execution_count": 11,
   "id": "2afb6403",
   "metadata": {},
   "outputs": [
    {
     "name": "stdout",
     "output_type": "stream",
     "text": [
      "C:\\Users\\LENOVO\\Untitled Folder 1\n"
     ]
    }
   ],
   "source": [
    "%cd Untitled Folder 1\n"
   ]
  },
  {
   "cell_type": "markdown",
   "id": "fb837556",
   "metadata": {},
   "source": [
    "# Errors and Debugging"
   ]
  },
  {
   "cell_type": "markdown",
   "id": "82c10cf0",
   "metadata": {},
   "source": [
    "Code development and data analysis always require a bit of trial and error, and IPython contains tools to streamline this process."
   ]
  },
  {
   "cell_type": "markdown",
   "id": "50c0620f",
   "metadata": {},
   "source": [
    "## Controlling Exceptions: <mark> %xmode </mark>"
   ]
  },
  {
   "cell_type": "markdown",
   "id": "11b64120",
   "metadata": {},
   "source": [
    "Most of the time when a Python script fails, it will raise an Exception. When the interpreter hits one of these exceptions, information about the cause of the error can be found in the <i>traceback</i>, which can be accessed from within Python. With the <mark>%xmode</mark> magic function, IPython allows you to control the amount of information printed when the exception is raised."
   ]
  },
  {
   "cell_type": "code",
   "execution_count": 13,
   "id": "f52a9fee",
   "metadata": {},
   "outputs": [],
   "source": [
    "def func1(a,b):\n",
    "    return a/b\n",
    "def func2(x):\n",
    "    a=x\n",
    "    b=x-1\n",
    "    return func1(a,b)"
   ]
  },
  {
   "cell_type": "code",
   "execution_count": 14,
   "id": "0b9a756f",
   "metadata": {},
   "outputs": [
    {
     "ename": "ZeroDivisionError",
     "evalue": "division by zero",
     "output_type": "error",
     "traceback": [
      "\u001b[1;31m---------------------------------------------------------------------------\u001b[0m",
      "\u001b[1;31mZeroDivisionError\u001b[0m                         Traceback (most recent call last)",
      "Cell \u001b[1;32mIn[14], line 1\u001b[0m\n\u001b[1;32m----> 1\u001b[0m func2(\u001b[38;5;241m1\u001b[39m)\n",
      "Cell \u001b[1;32mIn[13], line 6\u001b[0m, in \u001b[0;36mfunc2\u001b[1;34m(x)\u001b[0m\n\u001b[0;32m      4\u001b[0m a\u001b[38;5;241m=\u001b[39mx\n\u001b[0;32m      5\u001b[0m b\u001b[38;5;241m=\u001b[39mx\u001b[38;5;241m-\u001b[39m\u001b[38;5;241m1\u001b[39m\n\u001b[1;32m----> 6\u001b[0m \u001b[38;5;28;01mreturn\u001b[39;00m func1(a,b)\n",
      "Cell \u001b[1;32mIn[13], line 2\u001b[0m, in \u001b[0;36mfunc1\u001b[1;34m(a, b)\u001b[0m\n\u001b[0;32m      1\u001b[0m \u001b[38;5;28;01mdef\u001b[39;00m \u001b[38;5;21mfunc1\u001b[39m(a,b):\n\u001b[1;32m----> 2\u001b[0m     \u001b[38;5;28;01mreturn\u001b[39;00m a\u001b[38;5;241m/\u001b[39mb\n",
      "\u001b[1;31mZeroDivisionError\u001b[0m: division by zero"
     ]
    }
   ],
   "source": [
    "func2(1)"
   ]
  },
  {
   "cell_type": "markdown",
   "id": "3be16b90",
   "metadata": {},
   "source": [
    "Calling <mark>func2</mark> results in an error, and reading the printed trace lets us see exactly what happened. By default, this trace includes several lines showing the context of each step that led to the error. Using the <mark>%xmode</mark> magic function (short for Exception mode), we can change what information is printed.\n",
    "\n",
    "<mark>%xmode</mark> takes a single argument, the mode, and there are three possibilities: Plain, Context, and Verbose. The default is Context, and gives output like that just shown before. Plain is more compact and gives less information:"
   ]
  },
  {
   "cell_type": "code",
   "execution_count": 15,
   "id": "e660cda1",
   "metadata": {},
   "outputs": [
    {
     "name": "stdout",
     "output_type": "stream",
     "text": [
      "Exception reporting mode: Plain\n"
     ]
    }
   ],
   "source": [
    "%xmode Plain"
   ]
  },
  {
   "cell_type": "code",
   "execution_count": 16,
   "id": "aa838342",
   "metadata": {},
   "outputs": [
    {
     "ename": "ZeroDivisionError",
     "evalue": "division by zero",
     "output_type": "error",
     "traceback": [
      "Traceback \u001b[1;36m(most recent call last)\u001b[0m:\n",
      "\u001b[0m  Cell \u001b[0;32mIn[16], line 1\u001b[0m\n    func2(1)\u001b[0m\n",
      "\u001b[0m  Cell \u001b[0;32mIn[13], line 6\u001b[0m in \u001b[0;35mfunc2\u001b[0m\n    return func1(a,b)\u001b[0m\n",
      "\u001b[1;36m  Cell \u001b[1;32mIn[13], line 2\u001b[1;36m in \u001b[1;35mfunc1\u001b[1;36m\n\u001b[1;33m    return a/b\u001b[1;36m\n",
      "\u001b[1;31mZeroDivisionError\u001b[0m\u001b[1;31m:\u001b[0m division by zero\n"
     ]
    }
   ],
   "source": [
    "func2(1)"
   ]
  },
  {
   "cell_type": "markdown",
   "id": "4654ca9d",
   "metadata": {},
   "source": [
    "The <mark>Verbose</mark> mode adds some extra information, including the arguments to any functions that are called:"
   ]
  },
  {
   "cell_type": "code",
   "execution_count": 17,
   "id": "7f909eca",
   "metadata": {},
   "outputs": [
    {
     "name": "stdout",
     "output_type": "stream",
     "text": [
      "Exception reporting mode: Verbose\n"
     ]
    }
   ],
   "source": [
    "%xmode Verbose"
   ]
  },
  {
   "cell_type": "code",
   "execution_count": 18,
   "id": "ba7d887d",
   "metadata": {},
   "outputs": [
    {
     "ename": "ZeroDivisionError",
     "evalue": "division by zero",
     "output_type": "error",
     "traceback": [
      "\u001b[1;31m---------------------------------------------------------------------------\u001b[0m",
      "\u001b[1;31mZeroDivisionError\u001b[0m                         Traceback (most recent call last)",
      "Cell \u001b[1;32mIn[18], line 1\u001b[0m\n\u001b[1;32m----> 1\u001b[0m func2(\u001b[38;5;241m1\u001b[39m)\n",
      "Cell \u001b[1;32mIn[13], line 6\u001b[0m, in \u001b[0;36mfunc2\u001b[1;34m(x=1)\u001b[0m\n\u001b[0;32m      4\u001b[0m a\u001b[38;5;241m=\u001b[39mx\n\u001b[0;32m      5\u001b[0m b\u001b[38;5;241m=\u001b[39mx\u001b[38;5;241m-\u001b[39m\u001b[38;5;241m1\u001b[39m\n\u001b[1;32m----> 6\u001b[0m \u001b[38;5;28;01mreturn\u001b[39;00m func1(a,b)\n        a \u001b[1;34m= 1\u001b[0m\u001b[1;34m\n        \u001b[0mb \u001b[1;34m= 0\u001b[0m\n",
      "Cell \u001b[1;32mIn[13], line 2\u001b[0m, in \u001b[0;36mfunc1\u001b[1;34m(a=1, b=0)\u001b[0m\n\u001b[0;32m      1\u001b[0m \u001b[38;5;28;01mdef\u001b[39;00m \u001b[38;5;21mfunc1\u001b[39m(a,b):\n\u001b[1;32m----> 2\u001b[0m     \u001b[38;5;28;01mreturn\u001b[39;00m a\u001b[38;5;241m/\u001b[39mb\n        a \u001b[1;34m= 1\u001b[0m\u001b[1;34m\n        \u001b[0mb \u001b[1;34m= 0\u001b[0m\n",
      "\u001b[1;31mZeroDivisionError\u001b[0m: division by zero"
     ]
    }
   ],
   "source": [
    "func2(1)"
   ]
  },
  {
   "cell_type": "markdown",
   "id": "4ff1c684",
   "metadata": {},
   "source": [
    "This extra information can help narrow-in on why the exception is being raised. So why not use the <mark>Verbose</mark> mode all the time? As code gets complicated, this kind of traceback can get extremely long. Depending on the context, sometimes the brevity of <mark>Default</mark> mode is easier to work with."
   ]
  },
  {
   "cell_type": "markdown",
   "id": "ba36404c",
   "metadata": {},
   "source": [
    "## Debugging: When Reading Tracebacks is Not Enough"
   ]
  },
  {
   "cell_type": "markdown",
   "id": "0e0c94b1",
   "metadata": {},
   "source": [
    "The standard python tool for interactive debugging is <mark>pdb</mark> , the python debugger. This debugger lets the user step through the code line by line in orderr to see what might causing a more difficult error. The IPython enchanced version of this is <mark>ipdb</mark>,the IPython debugger."
   ]
  },
  {
   "cell_type": "markdown",
   "id": "39981f97",
   "metadata": {},
   "source": [
    "In IPython, perhaps the most convenient interface to debugging is the <mark>%debug</mark> magic command. If you call it after hitting an exception, it will automatically open an interactive debugging prompt at the point of the exception. The ipdb prompt lets you explore the current state of the stack, explore the available variables, and even run Python commands!"
   ]
  },
  {
   "cell_type": "code",
   "execution_count": 19,
   "id": "62b9b843",
   "metadata": {},
   "outputs": [
    {
     "name": "stdout",
     "output_type": "stream",
     "text": [
      "> \u001b[1;32mc:\\users\\lenovo\\appdata\\local\\temp\\ipykernel_13616\\1121206347.py\u001b[0m(2)\u001b[0;36mfunc1\u001b[1;34m()\u001b[0m\n",
      "\n",
      "ipdb> print(a)\n",
      "1\n",
      "ipdb> print(b)\n",
      "0\n",
      "ipdb> quit\n"
     ]
    }
   ],
   "source": [
    "%debug"
   ]
  },
  {
   "cell_type": "code",
   "execution_count": 20,
   "id": "5df04ae5",
   "metadata": {},
   "outputs": [
    {
     "name": "stdout",
     "output_type": "stream",
     "text": [
      "> \u001b[1;32mc:\\users\\lenovo\\appdata\\local\\temp\\ipykernel_13616\\1121206347.py\u001b[0m(2)\u001b[0;36mfunc1\u001b[1;34m()\u001b[0m\n",
      "\n",
      "ipdb> up\n",
      "> \u001b[1;32mc:\\users\\lenovo\\appdata\\local\\temp\\ipykernel_13616\\1121206347.py\u001b[0m(6)\u001b[0;36mfunc2\u001b[1;34m()\u001b[0m\n",
      "\n",
      "ipdb> print(x)\n",
      "1\n",
      "ipdb> up\n",
      "> \u001b[1;32mc:\\users\\lenovo\\appdata\\local\\temp\\ipykernel_13616\\2483606204.py\u001b[0m(1)\u001b[0;36m<module>\u001b[1;34m()\u001b[0m\n",
      "\n",
      "ipdb> down\n",
      "> \u001b[1;32mc:\\users\\lenovo\\appdata\\local\\temp\\ipykernel_13616\\1121206347.py\u001b[0m(6)\u001b[0;36mfunc2\u001b[1;34m()\u001b[0m\n",
      "\n",
      "ipdb> quit\n"
     ]
    }
   ],
   "source": [
    "%debug"
   ]
  },
  {
   "cell_type": "markdown",
   "id": "989f385c",
   "metadata": {},
   "source": [
    "This allows you to quickly find out not only what caused the error, but what function calls led up to the error.\n",
    "\n",
    "If you'd like the debugger to launch automatically whenever an exception is raised, you can use the <mark>%pdb</mark> magic function to turn on this automatic behavior:"
   ]
  },
  {
   "cell_type": "code",
   "execution_count": 21,
   "id": "e34e132c",
   "metadata": {},
   "outputs": [
    {
     "name": "stdout",
     "output_type": "stream",
     "text": [
      "Exception reporting mode: Plain\n",
      "Automatic pdb calling has been turned ON\n"
     ]
    },
    {
     "ename": "ZeroDivisionError",
     "evalue": "division by zero",
     "output_type": "error",
     "traceback": [
      "Traceback \u001b[1;36m(most recent call last)\u001b[0m:\n",
      "\u001b[0m  Cell \u001b[0;32mIn[21], line 3\u001b[0m\n    func2(1)\u001b[0m\n",
      "\u001b[0m  Cell \u001b[0;32mIn[13], line 6\u001b[0m in \u001b[0;35mfunc2\u001b[0m\n    return func1(a,b)\u001b[0m\n",
      "\u001b[1;36m  Cell \u001b[1;32mIn[13], line 2\u001b[1;36m in \u001b[1;35mfunc1\u001b[1;36m\n\u001b[1;33m    return a/b\u001b[1;36m\n",
      "\u001b[1;31mZeroDivisionError\u001b[0m\u001b[1;31m:\u001b[0m division by zero\n"
     ]
    },
    {
     "name": "stdout",
     "output_type": "stream",
     "text": [
      "> \u001b[1;32mc:\\users\\lenovo\\appdata\\local\\temp\\ipykernel_13616\\1121206347.py\u001b[0m(2)\u001b[0;36mfunc1\u001b[1;34m()\u001b[0m\n",
      "\n",
      "ipdb> print(b)\n",
      "0\n",
      "ipdb> print(1)\n",
      "1\n",
      "ipdb> quit\n"
     ]
    }
   ],
   "source": [
    "%xmode Plain\n",
    "%pdb on\n",
    "func2(1)"
   ]
  },
  {
   "cell_type": "markdown",
   "id": "096dd217",
   "metadata": {},
   "source": [
    "Finally, if you have a script that you'd like to run from the beginning in interactive mode, you can run it with the command <mark>%run -d</mark>, and use the <mark>next</mark> command to step through the lines of code interactively."
   ]
  },
  {
   "cell_type": "markdown",
   "id": "4d624c31",
   "metadata": {},
   "source": [
    "## Partial list of debugging commands"
   ]
  },
  {
   "cell_type": "markdown",
   "id": "65e5b9e1",
   "metadata": {},
   "source": [
    "There are many more available commands for interactive debugging like,\n",
    "\n",
    "<ol>\n",
    "    <li><mark>list</mark>&nbsp;&nbsp;&nbsp;&nbsp;&nbsp;Show the current location in the file</li>\n",
    "    <li><mark>h(elp)</mark>&nbsp;&nbsp;&nbsp;Show a list of commands , or find help on a specific command.</li>\n",
    "    <li><mark>q(uit)</mark>&nbsp;&nbsp;&nbsp;Quit the debugger and the program</li>\n",
    "    <li><mark>c(ontinue)</mark>&nbsp;&nbsp;&nbsp;Qunit the debugger, continue the program</li>\n",
    "    <li><mark>n(ext)</mark>&nbsp;&nbsp;&nbsp;&nbsp;Go the next step of the program</li>\n",
    "    <li><mark>&lt;enter&gt;</mark>&nbsp;&nbsp;&nbsp;Repeat the previous command</li>\n",
    "    <li><mark>p(rint)</mark>&nbsp;&nbsp;&nbsp;Print variables</li>\n",
    "    <li><mark>r(eturn)</mark>&nbsp;&nbsp;&nbsp;Return out of a subroutine</li>\n",
    "</ol>"
   ]
  },
  {
   "cell_type": "markdown",
   "id": "aa0610d5",
   "metadata": {},
   "source": [
    "# Profiling and Timing Code"
   ]
  },
  {
   "cell_type": "markdown",
   "id": "d40653f9",
   "metadata": {},
   "source": [
    "<ul>\n",
    "    <li><mark>%time</mark>&nbsp;&nbsp;&nbsp;Time the execution of a single statement</li>\n",
    "    <li><mark>%timeit</mark>&nbsp;&nbsp;&nbsp;Time repeated execution of a single statement for more accuracy</li>\n",
    "    <li><mark>%prun</mark>&nbsp;&nbsp;&nbsp;Run code with profiler</li>\n",
    "    <li><mark>%lprn</mark>&nbsp;&nbsp;&nbsp;Run code with the line by line profiler</li>\n",
    "    <li><mark>%memit</mark>&nbsp;&nbsp;&nbsp;Measure the memory use of single statemnt</li>\n",
    "    <li><mark>%mprun</mark>&nbsp;&nbsp;&nbsp;Run code with the line by line memory profiler</li>\n",
    "</ul>"
   ]
  },
  {
   "cell_type": "markdown",
   "id": "0540eb3d",
   "metadata": {},
   "source": [
    "## Timing code snippets"
   ]
  },
  {
   "cell_type": "code",
   "execution_count": 22,
   "id": "e4248aa0",
   "metadata": {},
   "outputs": [
    {
     "name": "stdout",
     "output_type": "stream",
     "text": [
      "2.2 µs ± 396 ns per loop (mean ± std. dev. of 7 runs, 1,000,000 loops each)\n"
     ]
    }
   ],
   "source": [
    "%timeit sum(range(100))"
   ]
  },
  {
   "cell_type": "markdown",
   "id": "160b5324",
   "metadata": {},
   "source": [
    "here as  this operation is so fast, <mark>%timeti</mark> automatically does a large number of operations .For slower commands, it will automatically adjust and perform fewer repetitions"
   ]
  },
  {
   "cell_type": "code",
   "execution_count": 23,
   "id": "e7138295",
   "metadata": {},
   "outputs": [
    {
     "name": "stdout",
     "output_type": "stream",
     "text": [
      "375 ms ± 65.8 ms per loop (mean ± std. dev. of 7 runs, 1 loop each)\n"
     ]
    }
   ],
   "source": [
    "%%timeit\n",
    "total=0\n",
    "for i in range(1000):\n",
    "    for j in range(1000):\n",
    "        total +=i * (-1)**j"
   ]
  },
  {
   "cell_type": "markdown",
   "id": "6a1f246f",
   "metadata": {},
   "source": [
    "Sometimes repeating an operation is not the best option. For example, if we have a list that we'd like to sort, we might be misled by a repeated operation. Sorting a pre-sorted list is much faster than sorting an unsorted list, so the repetition will skew the result:"
   ]
  },
  {
   "cell_type": "code",
   "execution_count": 24,
   "id": "7bdf2658",
   "metadata": {},
   "outputs": [
    {
     "name": "stdout",
     "output_type": "stream",
     "text": [
      "2.44 ms ± 400 µs per loop (mean ± std. dev. of 7 runs, 100 loops each)\n"
     ]
    }
   ],
   "source": [
    "import random\n",
    "L = [random.random() for i in range(100000)]\n",
    "%timeit L.sort()"
   ]
  },
  {
   "cell_type": "markdown",
   "id": "76665f3e",
   "metadata": {},
   "source": [
    "For this, the <mark>%time</mark> magic function may be a better choice. It also is a good choice for longer-running commands, when short, system-related delays are unlikely to affect the result. "
   ]
  },
  {
   "cell_type": "code",
   "execution_count": 26,
   "id": "037d2ba0",
   "metadata": {},
   "outputs": [
    {
     "name": "stdout",
     "output_type": "stream",
     "text": [
      "sorting an unsorted list:\n",
      "CPU times: total: 31.2 ms\n",
      "Wall time: 29.3 ms\n"
     ]
    }
   ],
   "source": [
    "import random\n",
    "L = [random.random() for i in range(100000)]\n",
    "print(\"sorting an unsorted list:\")\n",
    "%time L.sort()"
   ]
  },
  {
   "cell_type": "code",
   "execution_count": 27,
   "id": "c2816ddf",
   "metadata": {},
   "outputs": [
    {
     "name": "stdout",
     "output_type": "stream",
     "text": [
      "sorting an already sorted list\n",
      "CPU times: total: 0 ns\n",
      "Wall time: 2.99 ms\n"
     ]
    }
   ],
   "source": [
    "print('sorting an already sorted list')\n",
    "%time L.sort()"
   ]
  },
  {
   "cell_type": "markdown",
   "id": "f4afbf8e",
   "metadata": {},
   "source": [
    "Notice how much faster the presorted list is to sort, but notice also how much longer the timing takes with <mark>%time</mark> versus <mark>%timeit</mark>, even for the presorted list! This is a result of the fact that <mark>%timeit</mark> does some clever things under the hood to prevent system calls from interfering with the timing. For example, it prevents cleanup of unused Python objects (known as garbage collection) which might otherwise affect the timing. For this reason, <mark>%timeit</mark> results are usually noticeably faster than <mark>%time</mark> results."
   ]
  },
  {
   "cell_type": "code",
   "execution_count": 28,
   "id": "25860906",
   "metadata": {},
   "outputs": [
    {
     "name": "stdout",
     "output_type": "stream",
     "text": [
      "CPU times: total: 266 ms\n",
      "Wall time: 588 ms\n"
     ]
    }
   ],
   "source": [
    "%%time\n",
    "total = 0\n",
    "for i in range(1000):\n",
    "    for j in range(1000):\n",
    "        total += i * (-1) ** j"
   ]
  },
  {
   "cell_type": "markdown",
   "id": "2da4b076",
   "metadata": {},
   "source": [
    "## Profiling Full Scripts: <mark>%prun</mark>"
   ]
  },
  {
   "cell_type": "markdown",
   "id": "54e9879d",
   "metadata": {},
   "source": [
    "A program is made of many single statements, and sometimes timing these statements in context is more important than timing them on their own. Python contains a built-in code profiler (which you can read about in the Python documentation), but IPython offers a much more convenient way to use this profiler, in the form of the magic function <mark>%prun</mark>."
   ]
  },
  {
   "cell_type": "code",
   "execution_count": 29,
   "id": "cac4d9a4",
   "metadata": {},
   "outputs": [],
   "source": [
    "def sum_of_lists(N):\n",
    "    total = 0\n",
    "    for i in range(5):\n",
    "        L = [j ^ (j >> i) for j in range(N)]\n",
    "        total += sum(L)\n",
    "    return total"
   ]
  },
  {
   "cell_type": "code",
   "execution_count": 31,
   "id": "d0a60f2d",
   "metadata": {},
   "outputs": [
    {
     "name": "stdout",
     "output_type": "stream",
     "text": [
      " "
     ]
    }
   ],
   "source": [
    "%prun sum_of_lists(1000000)"
   ]
  },
  {
   "cell_type": "markdown",
   "id": "bbc6b566",
   "metadata": {},
   "source": [
    "The result is a table that indicates, in order of total time on each function call, where the execution is spending the most time. In this case, the bulk of execution time is in the list comprehension inside <mark>sum_of_lists</mark>. From here, we could start thinking about what changes we might make to improve the performance in the algorithm."
   ]
  },
  {
   "cell_type": "markdown",
   "id": "0d1f7553",
   "metadata": {},
   "source": [
    "## Line by Line profiling with <mark>%lprun</mark>"
   ]
  },
  {
   "cell_type": "markdown",
   "id": "74133a63",
   "metadata": {},
   "source": [
    "The function-by-function profiling of <mark>%prun</mark> is useful, but sometimes it's more convenient to have a line-by-line profile report. This is not built into Python or IPython, but there is a <mark>line_profiler</mark> package available for installation that can do this"
   ]
  },
  {
   "cell_type": "code",
   "execution_count": 32,
   "id": "642b4c0d",
   "metadata": {},
   "outputs": [
    {
     "name": "stdout",
     "output_type": "stream",
     "text": [
      "Collecting line_profiler\n",
      "  Obtaining dependency information for line_profiler from https://files.pythonhosted.org/packages/9e/03/9e56cc08992d8a18647c3297edde089783795c7a3f8e534b755b034bd4c3/line_profiler-4.1.2-cp311-cp311-win_amd64.whl.metadata\n",
      "  Downloading line_profiler-4.1.2-cp311-cp311-win_amd64.whl.metadata (32 kB)\n",
      "Downloading line_profiler-4.1.2-cp311-cp311-win_amd64.whl (123 kB)\n",
      "   ---------------------------------------- 0.0/123.6 kB ? eta -:--:--\n",
      "   --------- ------------------------------ 30.7/123.6 kB 1.3 MB/s eta 0:00:01\n",
      "   ---------------------- ---------------- 71.7/123.6 kB 991.0 kB/s eta 0:00:01\n",
      "   ---------------------------------- --- 112.6/123.6 kB 819.2 kB/s eta 0:00:01\n",
      "   -------------------------------------- 123.6/123.6 kB 804.1 kB/s eta 0:00:00\n",
      "Installing collected packages: line_profiler\n",
      "Successfully installed line_profiler-4.1.2\n"
     ]
    }
   ],
   "source": [
    "!pip install line_profiler"
   ]
  },
  {
   "cell_type": "markdown",
   "id": "0f8fefe4",
   "metadata": {},
   "source": [
    "Next, you can use IPython to load the <mark>line_profiler</mark> IPython extension, offered as part of this package:"
   ]
  },
  {
   "cell_type": "code",
   "execution_count": 33,
   "id": "5430f707",
   "metadata": {},
   "outputs": [],
   "source": [
    "%load_ext line_profiler"
   ]
  },
  {
   "cell_type": "markdown",
   "id": "daeed02b",
   "metadata": {},
   "source": [
    "Now the <mark>%lprun</mark> command will do a line-by-line profiling of any function–in this case, we need to tell it explicitly which functions we're interested in profiling:"
   ]
  },
  {
   "cell_type": "code",
   "execution_count": 34,
   "id": "fabb24ad",
   "metadata": {},
   "outputs": [],
   "source": [
    "%lprun -f sum_of_lists sum_of_lists(5000)"
   ]
  },
  {
   "cell_type": "markdown",
   "id": "15fb7cd4",
   "metadata": {},
   "source": [
    "The information at the top gives us the key to reading the results: the time is reported in microseconds and we can see where the program is spending the most time. At this point, we may be able to use this information to modify aspects of the script and make it perform better for our desired use case."
   ]
  },
  {
   "cell_type": "markdown",
   "id": "b6c661c7",
   "metadata": {},
   "source": [
    "## Profiling Memory use: <mark>%memit</mark> and <mark>%mprun</mark>"
   ]
  },
  {
   "cell_type": "code",
   "execution_count": 35,
   "id": "6234e35d",
   "metadata": {},
   "outputs": [
    {
     "name": "stdout",
     "output_type": "stream",
     "text": [
      "Collecting memory_profiler\n",
      "  Downloading memory_profiler-0.61.0-py3-none-any.whl (31 kB)\n",
      "Requirement already satisfied: psutil in c:\\users\\lenovo\\onedrive\\anaconda\\lib\\site-packages (from memory_profiler) (5.9.0)\n",
      "Installing collected packages: memory_profiler\n",
      "Successfully installed memory_profiler-0.61.0\n"
     ]
    }
   ],
   "source": [
    "!pip install memory_profiler"
   ]
  },
  {
   "cell_type": "code",
   "execution_count": 36,
   "id": "055bd55a",
   "metadata": {},
   "outputs": [],
   "source": [
    "%load_ext memory_profiler"
   ]
  },
  {
   "cell_type": "markdown",
   "id": "92e5166d",
   "metadata": {},
   "source": [
    "The memory profiler extension contains two useful magic functions: the <mark>%memit</mark> magic (which offers a memory-measuring equivalent of <mark>%timeit</mark>) and the <mark>%mprun</mark> function (which offers a memory-measuring equivalent of %lprun). "
   ]
  },
  {
   "cell_type": "code",
   "execution_count": 37,
   "id": "50ff1792",
   "metadata": {},
   "outputs": [
    {
     "name": "stdout",
     "output_type": "stream",
     "text": [
      "peak memory: 159.75 MiB, increment: 74.62 MiB\n"
     ]
    }
   ],
   "source": [
    "%memit sum_of_lists(1000000)"
   ]
  },
  {
   "cell_type": "markdown",
   "id": "dd55c8c2",
   "metadata": {},
   "source": [
    "For a line-by-line description of memory use, we can use the <mark>%mprun</mark> magic. Unfortunately, this magic works only for functions defined in separate modules rather than the notebook itself, so we'll start by using the <mark>%%file</mark> magic to create a simple module called <mark>mprun_demo.py</mark>, which contains our <mark>sum_of_lists</mark> function, with one addition that will make our memory profiling results more clear:"
   ]
  },
  {
   "cell_type": "code",
   "execution_count": 38,
   "id": "6e0ea463",
   "metadata": {},
   "outputs": [
    {
     "name": "stdout",
     "output_type": "stream",
     "text": [
      "Writing mprun_demo.py\n"
     ]
    }
   ],
   "source": [
    "%%file mprun_demo.py\n",
    "def sum_of_lists(N):\n",
    "    total = 0\n",
    "    for i in range(5):\n",
    "        L = [j ^ (j >> i) for j in range(N)]\n",
    "        total += sum(L)\n",
    "        del L # remove reference to L\n",
    "    return total"
   ]
  },
  {
   "cell_type": "code",
   "execution_count": 40,
   "id": "b078726f",
   "metadata": {},
   "outputs": [
    {
     "name": "stdout",
     "output_type": "stream",
     "text": [
      "\n"
     ]
    }
   ],
   "source": [
    "from mprun_demo import sum_of_lists\n",
    "%mprun -f sum_of_lists sum_of_lists(1000)\n"
   ]
  },
  {
   "cell_type": "markdown",
   "id": "a6b7c3df",
   "metadata": {},
   "source": [
    "Here the Increment column tells us how much each line affects the total memory budget:"
   ]
  },
  {
   "cell_type": "code",
   "execution_count": null,
   "id": "1bc9eebf",
   "metadata": {},
   "outputs": [],
   "source": []
  }
 ],
 "metadata": {
  "kernelspec": {
   "display_name": "Python 3 (ipykernel)",
   "language": "python",
   "name": "python3"
  },
  "language_info": {
   "codemirror_mode": {
    "name": "ipython",
    "version": 3
   },
   "file_extension": ".py",
   "mimetype": "text/x-python",
   "name": "python",
   "nbconvert_exporter": "python",
   "pygments_lexer": "ipython3",
   "version": "3.11.5"
  }
 },
 "nbformat": 4,
 "nbformat_minor": 5
}
