{
  "nbformat": 4,
  "nbformat_minor": 0,
  "metadata": {
    "colab": {
      "provenance": [],
      "toc_visible": true
    },
    "kernelspec": {
      "name": "python3",
      "display_name": "Python 3"
    },
    "language_info": {
      "name": "python"
    }
  },
  "cells": [
    {
      "cell_type": "markdown",
      "source": [
        "# Statistics Related"
      ],
      "metadata": {
        "id": "kT68g-H3UZa4"
      }
    },
    {
      "cell_type": "markdown",
      "source": [
        "1. Write a Python program to find the maximum and minimum value of a given</br> flattened array.</br>\n",
        "Expected Output:</br>\n",
        "Original flattened array:</br>\n",
        "[[0 1]</br>\n",
        "[2 3]]</br>\n",
        "Maximum value of the above flattened array:\n",
        "3</br>\n",
        "Minimum value of the above flattened array:\n",
        "0"
      ],
      "metadata": {
        "id": "vAfURpVikxRu"
      }
    },
    {
      "cell_type": "code",
      "source": [
        "import numpy as np\n",
        "original_mat=np.array(\n",
        "    [\n",
        "        [0,1],\n",
        "        [2,3]\n",
        "    ]\n",
        ")\n",
        "flattened_mat=original_mat.flatten()\n",
        "print(f'Maximum value of the above flattened array:{np.max(flattened_mat)}')\n",
        "print(f'Minimum value of the above flattened array:{np.min(flattened_mat)}')"
      ],
      "metadata": {
        "colab": {
          "base_uri": "https://localhost:8080/"
        },
        "id": "G2nA4TV1lACK",
        "outputId": "9c228b63-629d-4ccc-fff3-17f884141f9b"
      },
      "execution_count": 3,
      "outputs": [
        {
          "output_type": "stream",
          "name": "stdout",
          "text": [
            "Maximum value of the above flattened array:3\n",
            "Minimum value of the above flattened array:0\n"
          ]
        }
      ]
    },
    {
      "cell_type": "markdown",
      "source": [
        "2. Write a NumPy program to get the minimum and maximum value of a\n",
        "</br>given array along the second axis.</br>\n",
        "Expected Output:</br>\n",
        "Original array:</br>\n",
        "[[0 1]</br>\n",
        "[2 3]]</br>\n",
        "Maximum value along the second axis:</br>\n",
        "[1 3]</br>\n",
        "Minimum value along the second axis:</br>\n",
        "[0 2]"
      ],
      "metadata": {
        "id": "azumusQJlyDN"
      }
    },
    {
      "cell_type": "code",
      "source": [
        "original_matrix=np.array(\n",
        "    [\n",
        "        [0,1],\n",
        "        [2,3]\n",
        "    ]\n",
        ")\n",
        "print(f'Maximum value along the second axis:{np.max(original_matrix,axis=1)}')\n",
        "print(f'Minimum value along the second axis:{np.min(original_matrix,axis=1)}')"
      ],
      "metadata": {
        "colab": {
          "base_uri": "https://localhost:8080/"
        },
        "id": "AhLEhxksl-sF",
        "outputId": "b27c4e24-7190-42a8-e478-015b22b9c41e"
      },
      "execution_count": 5,
      "outputs": [
        {
          "output_type": "stream",
          "name": "stdout",
          "text": [
            "Maximum value along the second axis:[1 3]\n",
            "Minimum value along the second axis:[0 2]\n"
          ]
        }
      ]
    },
    {
      "cell_type": "markdown",
      "source": [
        "3. Write a NumPy program to compute the 80th percentile for all elements</br>in a given array along the second axis.</br>\n",
        "Expected Output:</br>\n",
        "Original array:</br>\n",
        "Original array:</br>\n",
        "[[ 0  1  2  3  4  5]</br>\n",
        " [ 6  7  8  9 10 11]]</br>\n",
        "\n",
        "80th percentile for all elements of the said array along the second axis:</br>\n",
        "[ 4. 10.]"
      ],
      "metadata": {
        "id": "N5mFAwWLmfFI"
      }
    },
    {
      "cell_type": "code",
      "source": [
        "arr=np.array(\n",
        "    [\n",
        "        [0,1,2,3,4,5],\n",
        "        [6,7,8,9,10,11]\n",
        "    ]\n",
        ")\n",
        "print(np.percentile(arr,80,axis=1))"
      ],
      "metadata": {
        "colab": {
          "base_uri": "https://localhost:8080/"
        },
        "id": "I7M--74Wm4Si",
        "outputId": "50df98de-3efb-4935-8b03-7adc39f89d81"
      },
      "execution_count": 8,
      "outputs": [
        {
          "output_type": "stream",
          "name": "stdout",
          "text": [
            "[ 4. 10.]\n"
          ]
        }
      ]
    },
    {
      "cell_type": "markdown",
      "source": [
        "4. Write a NumPy program to compute the median of flattened given array.</br>\n",
        "Note: First array elements raised to powers from second array</br>\n",
        "Expected Output:</br>\n",
        "Original array:</br>\n",
        "[[ 0 1 2 3 4 5]</br>\n",
        "[ 6 7 8 9 10 11]]</br>\n",
        "Median of said array:\n",
        " 5.5"
      ],
      "metadata": {
        "id": "OnmzvSqpoOdR"
      }
    },
    {
      "cell_type": "code",
      "source": [
        "arr=np.array(\n",
        "    [\n",
        "        [0,1,2,3,4,5],\n",
        "        [6,7,8,9,10,11]\n",
        "    ]\n",
        ")\n",
        "print(np.percentile(arr,50))# one way\n",
        "print(np.median(arr))# 2nd way\n"
      ],
      "metadata": {
        "colab": {
          "base_uri": "https://localhost:8080/"
        },
        "id": "NAfGqwCToaun",
        "outputId": "b403fe58-7785-4ab5-b7ac-9dd6c5528aa0"
      },
      "execution_count": 11,
      "outputs": [
        {
          "output_type": "stream",
          "name": "stdout",
          "text": [
            "5.5\n",
            "5.5\n"
          ]
        }
      ]
    },
    {
      "cell_type": "markdown",
      "source": [
        "5. Write a NumPy program to compute the covariance matrix of two given arrays.</br>\n",
        "Sample Output:</br>\n",
        "Original array1:</br>\n",
        "[0 1 2]</br>\n",
        "Original array1:</br>\n",
        "[2 1 0]</br>\n",
        "Covariance matrix of the said arrays:</br>\n",
        "[[ 1. -1.]</br>\n",
        "[-1. 1.]]"
      ],
      "metadata": {
        "id": "AI0dq4tBo1cG"
      }
    },
    {
      "cell_type": "code",
      "source": [
        "x=np.array([0,1,2])\n",
        "y=np.array([2,1,0])\n",
        "def var(vec1,vec2):\n",
        "  vec1_mean,vec2_mean=np.mean(vec1),np.mean(vec2)\n",
        "  var=np.sum((vec1-vec1_mean)*(vec2-vec2_mean)/(len(vec1)-1))\n",
        "  return var\n",
        "\n",
        "def cov(vec1,vec2):\n",
        "  cov_mat=np.array([\n",
        "      [var(vec1,vec1),var(vec1,vec2)],\n",
        "      [var(vec2,vec1),var(vec2,vec2)]\n",
        "  ])\n",
        "  return cov_mat\n",
        "\n",
        "print(f'Covariance matrix of the said arrays:\\n{cov(x,y)}')\n",
        ""
      ],
      "metadata": {
        "colab": {
          "base_uri": "https://localhost:8080/"
        },
        "id": "PlSG2jrepA1a",
        "outputId": "a047f7c5-820f-4e53-ba13-0839fc5abc3e"
      },
      "execution_count": 17,
      "outputs": [
        {
          "output_type": "stream",
          "name": "stdout",
          "text": [
            "Covariance matrix of the said arrays:\n",
            "[[ 1. -1.]\n",
            " [-1.  1.]]\n"
          ]
        }
      ]
    },
    {
      "cell_type": "markdown",
      "source": [
        "6. Write a NumPy program to compute cross-correlation of two given</br>arrays.</br>\n",
        "Sample Output:</br>\n",
        "Original array1:</br>\n",
        "[0 1 3]</br>\n",
        "Original array1:</br>\n",
        "[2 4 5]</br>\n",
        "Cross-correlation of the said arrays:</br>\n",
        "[19]"
      ],
      "metadata": {
        "id": "W63xW-FVuXi6"
      }
    },
    {
      "cell_type": "markdown",
      "source": [
        "**Note:**</br>\n",
        "Cross-correlation is generally used when measuring information between two different time series. The possible range for the correlation coefficient of the time series data is from -1.0 to +1.0. The closer the cross-correlation value is to 1, the more closely the sets are identical.\n",
        "</br>\n",
        "Investors and analysts employ cross-correlation to understand how the prices of two or more stocks—or other assets—perform against one another. This is particularly important for correlation trades such as dispersion strategies and pairs trading.\n",
        "</br>\n",
        "Above all, cross-correlation is used in portfolio management to measure the degree of diversification among the assets contained in a portfolio. Investors increase the diversification of their assets in order to reduce the risk of big losses."
      ],
      "metadata": {
        "id": "zLRqR1Ceu6xK"
      }
    },
    {
      "cell_type": "code",
      "source": [
        "print(np.correlate([0,1,3],[2,4,5]))"
      ],
      "metadata": {
        "colab": {
          "base_uri": "https://localhost:8080/"
        },
        "id": "ASb5NNWIvCV3",
        "outputId": "dc29d7f7-4484-4822-8690-894e70c66333"
      },
      "execution_count": 18,
      "outputs": [
        {
          "output_type": "stream",
          "name": "stdout",
          "text": [
            "[19]\n"
          ]
        }
      ]
    },
    {
      "cell_type": "markdown",
      "source": [
        "7. Write a NumPy program to compute pearson product-moment correlation coefficients of two given arrays.</br>\n",
        "Sample Output:</br>\n",
        "Original array1:</br>\n",
        "[0 1 3]</br>\n",
        "Original array1:</br>\n",
        "[2 4 5]</br>\n",
        "Pearson product-moment correlation coefficients of the said arrays:</br>\n",
        "[[1. 0.92857143]</br>\n",
        "[0.92857143 1. ]]</br>"
      ],
      "metadata": {
        "id": "CEAZL47ovpD4"
      }
    },
    {
      "cell_type": "markdown",
      "source": [
        "**Note:**</br>\n",
        "The Pearson product-moment correlation coefficient (or Pearson correlation coefficient, for short) is a measure of the strength of a linear association between two variables and is denoted by r. Basically, a Pearson product-moment correlation attempts to draw a line of best fit through the data of two variables, and the Pearson correlation coefficient, r, indicates how far away all these data points are to this line of best fit (i.e., how well the data points fit this new model/line of best fit)."
      ],
      "metadata": {
        "id": "1KshUKbQwKmS"
      }
    },
    {
      "cell_type": "markdown",
      "source": [
        "![image.png](data:image/png;base64,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)"
      ],
      "metadata": {
        "id": "Xr2MsumEwZeV"
      }
    },
    {
      "cell_type": "code",
      "source": [
        "print(np.corrcoef([0,1,3],[2,4,5]))"
      ],
      "metadata": {
        "colab": {
          "base_uri": "https://localhost:8080/"
        },
        "id": "DX5vBPI3wZ6F",
        "outputId": "665b63fc-08d0-406c-92dc-7bd88f9e0df3"
      },
      "execution_count": 19,
      "outputs": [
        {
          "output_type": "stream",
          "name": "stdout",
          "text": [
            "[[1.         0.92857143]\n",
            " [0.92857143 1.        ]]\n"
          ]
        }
      ]
    },
    {
      "cell_type": "markdown",
      "source": [
        "8. Calculate the peak to peak values of the given matrix</br>\n",
        "[10, 14, 11, 7, 9.5, 15, 19]</br>\n",
        "[8, 9, 17, 14.5, 12, 18, 15.5]</br>\n",
        "[15, 7.5, 11.5, 10, 10.5, 7, 11]</br>\n",
        "[11.5, 11, 9, 12, 14, 12, 7.5]</br>"
      ],
      "metadata": {
        "id": "g2rdf-OezZnS"
      }
    },
    {
      "cell_type": "code",
      "source": [
        "A = np.array([[10, 14, 11, 7, 9.5, 15, 19],\n",
        "              [8, 9, 17, 14.5, 12, 18, 15.5],\n",
        "              [15, 7.5, 11.5, 10, 10.5, 7, 11],\n",
        "              [11.5, 11, 9, 12, 14, 12, 7.5]])\n",
        "\n",
        "# Calculate PTP values along axis 0 (columns)\n",
        "a = np.ptp(A, axis=0)\n",
        "\n",
        "# Calculate PTP values along axis 1 (rows)\n",
        "b = np.ptp(A, axis=1)\n",
        "\n",
        "print(\"PTP along columns (axis 0):\", a)\n",
        "print(\"PTP along rows (axis 1):\", b)"
      ],
      "metadata": {
        "colab": {
          "base_uri": "https://localhost:8080/"
        },
        "id": "Pm9RzYLqyNd3",
        "outputId": "e2609b2d-72a1-42c0-820c-ebb2340fae92"
      },
      "execution_count": 21,
      "outputs": [
        {
          "output_type": "stream",
          "name": "stdout",
          "text": [
            "PTP along columns (axis 0): [ 7.   6.5  8.   7.5  4.5 11.  11.5]\n",
            "PTP along rows (axis 1): [12.  10.   8.   6.5]\n"
          ]
        }
      ]
    },
    {
      "cell_type": "markdown",
      "source": [
        "# Random related"
      ],
      "metadata": {
        "id": "G8MYRqJx0DwI"
      }
    },
    {
      "cell_type": "markdown",
      "source": [
        "1.  Write a NumPy program to generate five random numbers from the normal distribution.</br>\n",
        "Expected Output:</br>\n",
        "[-0.43262625 -1.10836787 1.80791413 0.69287463 -0.53742101]"
      ],
      "metadata": {
        "id": "3jj3GXdL1APg"
      }
    },
    {
      "cell_type": "code",
      "source": [
        "from numpy import random\n",
        "rng=random.default_rng()\n",
        "print(rng.normal(size=5))"
      ],
      "metadata": {
        "colab": {
          "base_uri": "https://localhost:8080/"
        },
        "id": "yrACe5O51DMT",
        "outputId": "237d6420-412f-4c0f-8715-30459051fc72"
      },
      "execution_count": 24,
      "outputs": [
        {
          "output_type": "stream",
          "name": "stdout",
          "text": [
            "[ 0.1942691  -0.39401135 -0.46934949  0.91671763 -1.75833428]\n"
          ]
        }
      ]
    },
    {
      "cell_type": "markdown",
      "source": [
        "2. Write a NumPy program to generate six random integers between 10 and 30.</br>\n",
        "Expected Output:</br>\n",
        "[20 28 27 17 28 29]"
      ],
      "metadata": {
        "id": "tZzemKZY1_eI"
      }
    },
    {
      "cell_type": "code",
      "source": [
        "print(rng.integers(10,30,size=6))"
      ],
      "metadata": {
        "colab": {
          "base_uri": "https://localhost:8080/"
        },
        "id": "cCl_kwoM2C2j",
        "outputId": "fb5fb7f3-73f8-454b-bb75-f9ac23fd7893"
      },
      "execution_count": 25,
      "outputs": [
        {
          "output_type": "stream",
          "name": "stdout",
          "text": [
            "[14 25 21 12 10 14]\n"
          ]
        }
      ]
    },
    {
      "cell_type": "markdown",
      "source": [
        "3. Write a NumPy program to create a 3x3x3 array with random values"
      ],
      "metadata": {
        "id": "Sn69TaX72OuZ"
      }
    },
    {
      "cell_type": "code",
      "source": [
        "print(rng.random((3,3,3)))"
      ],
      "metadata": {
        "colab": {
          "base_uri": "https://localhost:8080/"
        },
        "id": "mibXA31z2Swz",
        "outputId": "a40a2aa9-eb29-45e0-e576-c4a5e18326f2"
      },
      "execution_count": 26,
      "outputs": [
        {
          "output_type": "stream",
          "name": "stdout",
          "text": [
            "[[[0.07818634 0.56700717 0.46107834]\n",
            "  [0.74122933 0.65994107 0.85144498]\n",
            "  [0.73493251 0.73165267 0.20150525]]\n",
            "\n",
            " [[0.19254252 0.83382704 0.85523035]\n",
            "  [0.60640002 0.16986391 0.79814912]\n",
            "  [0.82034982 0.41209639 0.80462203]]\n",
            "\n",
            " [[0.26628245 0.93487793 0.11860226]\n",
            "  [0.59849235 0.48027504 0.24603479]\n",
            "  [0.6926694  0.70583951 0.86529786]]]\n"
          ]
        }
      ]
    },
    {
      "cell_type": "markdown",
      "source": [
        "4. Write a NumPy program to create a random 10x4 array and extract the</br>first five rows of the array and store them into a variable."
      ],
      "metadata": {
        "id": "xy2Ozm2v2nEe"
      }
    },
    {
      "cell_type": "code",
      "source": [
        "arr=rng.random((10,4))\n",
        "new_arr=arr[:5,:]\n",
        "print(new_arr)"
      ],
      "metadata": {
        "colab": {
          "base_uri": "https://localhost:8080/"
        },
        "id": "6WDK6zmn2vR-",
        "outputId": "9731d92c-abb5-4bd5-df5f-1685e677ca2f"
      },
      "execution_count": 28,
      "outputs": [
        {
          "output_type": "stream",
          "name": "stdout",
          "text": [
            "[[0.95206486 0.06849093 0.73204534 0.56863149]\n",
            " [0.46569814 0.31268575 0.31074901 0.57365707]\n",
            " [0.5741709  0.62174794 0.70966712 0.54368885]\n",
            " [0.20137256 0.55898409 0.37915009 0.54185029]\n",
            " [0.73076807 0.11365419 0.44402022 0.24522748]]\n"
          ]
        }
      ]
    },
    {
      "cell_type": "markdown",
      "source": [
        "5. Write a NumPy program to shuffle numbers between 0 and 10 (inclusive)."
      ],
      "metadata": {
        "id": "nV_k6Yxz3XAa"
      }
    },
    {
      "cell_type": "code",
      "source": [
        "arr=rng.integers(0,10,size=10,endpoint=True)\n",
        "rng.shuffle(arr) # shuffle is inplace\n",
        "print(arr)"
      ],
      "metadata": {
        "colab": {
          "base_uri": "https://localhost:8080/"
        },
        "id": "PlQr_Xsq3YAz",
        "outputId": "fb0a020e-ab66-4996-e0d9-67b8e8b46be4"
      },
      "execution_count": 37,
      "outputs": [
        {
          "output_type": "stream",
          "name": "stdout",
          "text": [
            "[1 9 6 2 1 1 6 4 2 6]\n"
          ]
        }
      ]
    },
    {
      "cell_type": "markdown",
      "source": [
        "6. Write a NumPy program to normalize a 3x3 random matrix."
      ],
      "metadata": {
        "id": "oZmv2qp04LR2"
      }
    },
    {
      "cell_type": "code",
      "source": [
        "arr=rng.random((3,3))\n",
        "print(f'Before normalization: {arr}')\n",
        "print()\n",
        "arrmax,arrmin=arr.max(),arr.min()\n",
        "arr=(arr-arrmin)/(arrmax-arrmin)\n",
        "print(arr)"
      ],
      "metadata": {
        "colab": {
          "base_uri": "https://localhost:8080/"
        },
        "id": "zHu6j94c4PHm",
        "outputId": "cf6f36bb-cfbf-4488-832b-b07756e40857"
      },
      "execution_count": 41,
      "outputs": [
        {
          "output_type": "stream",
          "name": "stdout",
          "text": [
            "Before normalization: [[0.4268631  0.22527101 0.0995954 ]\n",
            " [0.9066098  0.3604079  0.58091623]\n",
            " [0.67134398 0.1540086  0.48494675]]\n",
            "\n",
            "[[0.40552894 0.15572908 0.        ]\n",
            " [1.         0.32318197 0.59642162]\n",
            " [0.70847383 0.06742532 0.47750245]]\n"
          ]
        }
      ]
    },
    {
      "cell_type": "markdown",
      "source": [
        "7. Write a NumPy program to create random vector of size 15 and replace</br> the maximum value by -1."
      ],
      "metadata": {
        "id": "CLXpjCwT5OeO"
      }
    },
    {
      "cell_type": "code",
      "source": [
        "arr=rng.random(15)\n",
        "max_ind=np.argmax(arr)\n",
        "arr[max_ind]=-1\n",
        "print(arr)"
      ],
      "metadata": {
        "colab": {
          "base_uri": "https://localhost:8080/"
        },
        "id": "fWD5LmtI4tJQ",
        "outputId": "8cb6f5fd-3959-4007-8cc6-2dab50f0a498"
      },
      "execution_count": 44,
      "outputs": [
        {
          "output_type": "stream",
          "name": "stdout",
          "text": [
            "[ 0.39117998  0.4990158   0.23105006  0.36217673  0.445213    0.10496276\n",
            "  0.6415687   0.70475469 -1.          0.75950098  0.86074073  0.455612\n",
            "  0.48505858  0.68909359  0.37910301]\n"
          ]
        }
      ]
    },
    {
      "cell_type": "markdown",
      "source": [
        "8. Write a NumPy program to find the most frequent value in an array."
      ],
      "metadata": {
        "id": "vB_Y4_wE7Feh"
      }
    },
    {
      "cell_type": "code",
      "source": [
        "arr=rng.integers(0,8,size=20)\n",
        "print(arr)\n",
        "unique_vals=np.unique(arr,return_counts=True)\n",
        "print(unique_vals)\n",
        "high_freq=unique_vals[1]\n",
        "print(unique_vals[0][np.argmax(high_freq)])"
      ],
      "metadata": {
        "colab": {
          "base_uri": "https://localhost:8080/"
        },
        "id": "qtKjFn9H6bN5",
        "outputId": "a53fc866-de14-4774-9b13-ba4f463bb92c"
      },
      "execution_count": 60,
      "outputs": [
        {
          "output_type": "stream",
          "name": "stdout",
          "text": [
            "[6 2 2 2 2 4 1 4 5 3 4 5 4 1 6 6 3 6 0 5]\n",
            "(array([0, 1, 2, 3, 4, 5, 6]), array([1, 2, 4, 2, 4, 3, 4]))\n",
            "2\n"
          ]
        }
      ]
    },
    {
      "cell_type": "markdown",
      "source": [
        "9. Write a NumPy program to find the closest value (to a given scalar) in an array."
      ],
      "metadata": {
        "id": "9TATFRry8tnU"
      }
    },
    {
      "cell_type": "code",
      "source": [
        "arr=np.arange(100)\n",
        "print(f'Original array:{arr}')\n",
        "val=rng.uniform(0,100) #generating a random floating point number between 0 and 100\n",
        "index=(np.abs(x-val)).argmin()\n",
        "print(arr[index])"
      ],
      "metadata": {
        "colab": {
          "base_uri": "https://localhost:8080/"
        },
        "id": "lm3IBJJn8urN",
        "outputId": "7de34c24-c84a-4aea-e248-05f1fb576050"
      },
      "execution_count": 61,
      "outputs": [
        {
          "output_type": "stream",
          "name": "stdout",
          "text": [
            "Original array:[ 0  1  2  3  4  5  6  7  8  9 10 11 12 13 14 15 16 17 18 19 20 21 22 23\n",
            " 24 25 26 27 28 29 30 31 32 33 34 35 36 37 38 39 40 41 42 43 44 45 46 47\n",
            " 48 49 50 51 52 53 54 55 56 57 58 59 60 61 62 63 64 65 66 67 68 69 70 71\n",
            " 72 73 74 75 76 77 78 79 80 81 82 83 84 85 86 87 88 89 90 91 92 93 94 95\n",
            " 96 97 98 99]\n",
            "2\n"
          ]
        }
      ]
    },
    {
      "cell_type": "markdown",
      "source": [
        "# Datetime related"
      ],
      "metadata": {
        "id": "rfuiX-bv-EYu"
      }
    },
    {
      "cell_type": "markdown",
      "source": [
        "1. Write a NumPy program to display all the dates for the month of March, 2017."
      ],
      "metadata": {
        "id": "q6v2iw5m-iKW"
      }
    },
    {
      "cell_type": "code",
      "source": [
        "print(np.arange('2017-03','2017-04',dtype='datetime64[D]'))"
      ],
      "metadata": {
        "colab": {
          "base_uri": "https://localhost:8080/"
        },
        "id": "xgoNujzJ-i9O",
        "outputId": "58aac60a-d69a-4755-8347-ad86255bceb0"
      },
      "execution_count": 62,
      "outputs": [
        {
          "output_type": "stream",
          "name": "stdout",
          "text": [
            "['2017-03-01' '2017-03-02' '2017-03-03' '2017-03-04' '2017-03-05'\n",
            " '2017-03-06' '2017-03-07' '2017-03-08' '2017-03-09' '2017-03-10'\n",
            " '2017-03-11' '2017-03-12' '2017-03-13' '2017-03-14' '2017-03-15'\n",
            " '2017-03-16' '2017-03-17' '2017-03-18' '2017-03-19' '2017-03-20'\n",
            " '2017-03-21' '2017-03-22' '2017-03-23' '2017-03-24' '2017-03-25'\n",
            " '2017-03-26' '2017-03-27' '2017-03-28' '2017-03-29' '2017-03-30'\n",
            " '2017-03-31']\n"
          ]
        }
      ]
    },
    {
      "cell_type": "markdown",
      "source": [
        "2. Write a NumPy program to get the dates of yesterday, today and tomorrow."
      ],
      "metadata": {
        "id": "sZ_wsJdW-w_F"
      }
    },
    {
      "cell_type": "code",
      "source": [
        "yesterday=np.datetime64('today','D')-np.timedelta64(1,'D')\n",
        "today=np.datetime64('today','D')\n",
        "tomorrow=np.datetime64('today','D')+np.timedelta64(1,'D')\n",
        "print(f'Yesterday: {yesterday}')\n",
        "print(f'Today: {today}')\n",
        "print(f'Tomorrow: {tomorrow}')"
      ],
      "metadata": {
        "colab": {
          "base_uri": "https://localhost:8080/"
        },
        "id": "H1kUe7Qp-18j",
        "outputId": "98904b97-cb42-4f88-ddd1-c08514ce4a1b"
      },
      "execution_count": 65,
      "outputs": [
        {
          "output_type": "stream",
          "name": "stdout",
          "text": [
            "Yesterday: 2023-12-05\n",
            "Today: 2023-12-06\n",
            "Tomorrow: 2023-12-07\n"
          ]
        }
      ]
    },
    {
      "cell_type": "markdown",
      "source": [
        "3. Write a NumPy program to count the number of days of specific month."
      ],
      "metadata": {
        "id": "qKB-B6wO_0nq"
      }
    },
    {
      "cell_type": "code",
      "source": [
        "print(f\"Number of days in feb, 2016 :{np.datetime64('2016-03-01')-np.datetime64('2016-02-01')}\")"
      ],
      "metadata": {
        "colab": {
          "base_uri": "https://localhost:8080/"
        },
        "id": "7Dqfe3p5_1TM",
        "outputId": "fbd7b350-f44b-45b2-ccc1-31bd09809e2f"
      },
      "execution_count": 70,
      "outputs": [
        {
          "output_type": "stream",
          "name": "stdout",
          "text": [
            "Number of days in feb, 2016 :29 days\n"
          ]
        }
      ]
    },
    {
      "cell_type": "markdown",
      "source": [
        "4. Write a NumPy program to create 24 python datetime.datetime object </br>(single object for every hour), and then put it in a numpy array."
      ],
      "metadata": {
        "id": "bpuJxO_vAl-t"
      }
    },
    {
      "cell_type": "code",
      "source": [
        "import datetime\n",
        "start=datetime.datetime(2000,1,1)\n",
        "arr=[start+datetime.timedelta(hours=i) for i in range(24)]\n",
        "print(arr)"
      ],
      "metadata": {
        "colab": {
          "base_uri": "https://localhost:8080/"
        },
        "id": "i__slDw6AtRN",
        "outputId": "eb3bcb4e-72a9-443e-ae46-a261041f0814"
      },
      "execution_count": 74,
      "outputs": [
        {
          "output_type": "stream",
          "name": "stdout",
          "text": [
            "[datetime.datetime(2000, 1, 1, 0, 0), datetime.datetime(2000, 1, 1, 1, 0), datetime.datetime(2000, 1, 1, 2, 0), datetime.datetime(2000, 1, 1, 3, 0), datetime.datetime(2000, 1, 1, 4, 0), datetime.datetime(2000, 1, 1, 5, 0), datetime.datetime(2000, 1, 1, 6, 0), datetime.datetime(2000, 1, 1, 7, 0), datetime.datetime(2000, 1, 1, 8, 0), datetime.datetime(2000, 1, 1, 9, 0), datetime.datetime(2000, 1, 1, 10, 0), datetime.datetime(2000, 1, 1, 11, 0), datetime.datetime(2000, 1, 1, 12, 0), datetime.datetime(2000, 1, 1, 13, 0), datetime.datetime(2000, 1, 1, 14, 0), datetime.datetime(2000, 1, 1, 15, 0), datetime.datetime(2000, 1, 1, 16, 0), datetime.datetime(2000, 1, 1, 17, 0), datetime.datetime(2000, 1, 1, 18, 0), datetime.datetime(2000, 1, 1, 19, 0), datetime.datetime(2000, 1, 1, 20, 0), datetime.datetime(2000, 1, 1, 21, 0), datetime.datetime(2000, 1, 1, 22, 0), datetime.datetime(2000, 1, 1, 23, 0)]\n"
          ]
        }
      ]
    },
    {
      "cell_type": "markdown",
      "source": [
        "# Anonymus problems"
      ],
      "metadata": {
        "id": "A_lCOaHPCLRY"
      }
    },
    {
      "cell_type": "markdown",
      "source": [
        "1. Filter the product array to only include those with prices greater than 25</br></br> Modify your logic to include cola,despite it not having a price greater than 25.</br></br>Store the elements returned  in an array called fancy_feast_special.</br></br>Next, create a shipping cost array where the cost is 0 if the price is greater than 20, and 5 if not"
      ],
      "metadata": {
        "id": "6_rU_lGeETHO"
      }
    },
    {
      "cell_type": "code",
      "source": [
        "products=np.array(\n",
        "    ['salad','bread','mustard','rare tomato','cola','ice cream']\n",
        ")\n",
        "\n",
        "prices=np.array([5.99,6.99,22.49,99.99,4.99,49.99])\n",
        "\n",
        "# 1st part\n",
        "print(products[prices>25])"
      ],
      "metadata": {
        "colab": {
          "base_uri": "https://localhost:8080/"
        },
        "id": "jhmRnRFjFAAu",
        "outputId": "d775d2bb-91d8-4859-ed17-7f1d8035077a"
      },
      "execution_count": 75,
      "outputs": [
        {
          "output_type": "stream",
          "name": "stdout",
          "text": [
            "['rare tomato' 'ice cream']\n"
          ]
        }
      ]
    },
    {
      "cell_type": "code",
      "source": [
        "# 2nd part\n",
        "arr=(prices > 25) | (products=='cola')\n",
        "fancy_feast_special = products[arr]\n",
        "print(fancy_feast_special)"
      ],
      "metadata": {
        "colab": {
          "base_uri": "https://localhost:8080/"
        },
        "id": "e20kv-zlFrha",
        "outputId": "c83a6f3b-83e1-4e5d-8618-736fe64c6d60"
      },
      "execution_count": 77,
      "outputs": [
        {
          "output_type": "stream",
          "name": "stdout",
          "text": [
            "['rare tomato' 'cola' 'ice cream']\n"
          ]
        }
      ]
    },
    {
      "cell_type": "code",
      "source": [
        "#3rd part\n",
        "shipping_cost=np.where(prices>20,0,5)\n",
        "print(shipping_cost)"
      ],
      "metadata": {
        "colab": {
          "base_uri": "https://localhost:8080/"
        },
        "id": "SvIIpLkzGJZ3",
        "outputId": "2923fdcb-8705-43bf-9465-46696a46edbe"
      },
      "execution_count": 78,
      "outputs": [
        {
          "output_type": "stream",
          "name": "stdout",
          "text": [
            "[5 5 0 0 5 0]\n"
          ]
        }
      ]
    },
    {
      "cell_type": "markdown",
      "source": [
        "2. Grab top 3 highest prices</br></br>\n",
        "Calculate mean, min , max, median of those top 3 prices</br></br>\n",
        "Finally , calculate the unique prices in price_tiers"
      ],
      "metadata": {
        "id": "wMZrHMJoGvWU"
      }
    },
    {
      "cell_type": "code",
      "source": [
        "prices=np.array([5.99,6.99,22.49,99.99,4.99,49.99])\n",
        "prices.sort()\n",
        "print(f'Top 3: {prices[-3:]}')"
      ],
      "metadata": {
        "colab": {
          "base_uri": "https://localhost:8080/"
        },
        "id": "RruPNH33HMJC",
        "outputId": "07c58f91-1690-42c8-f5bd-f6eef020d7f8"
      },
      "execution_count": 79,
      "outputs": [
        {
          "output_type": "stream",
          "name": "stdout",
          "text": [
            "Top 3: [22.49 49.99 99.99]\n"
          ]
        }
      ]
    },
    {
      "cell_type": "code",
      "source": [
        "#2nd part\n",
        "top3=prices[-3:]\n",
        "print(top3.mean())\n",
        "print(top3.min())\n",
        "print(top3.max())\n",
        "print(np.percentile(top3,50))"
      ],
      "metadata": {
        "colab": {
          "base_uri": "https://localhost:8080/"
        },
        "id": "QZAc0xWoHfrE",
        "outputId": "624c64d5-54cc-4856-b210-f821dd7a19fa"
      },
      "execution_count": 84,
      "outputs": [
        {
          "output_type": "stream",
          "name": "stdout",
          "text": [
            "57.49\n",
            "22.49\n",
            "99.99\n",
            "49.99\n"
          ]
        }
      ]
    },
    {
      "cell_type": "code",
      "source": [
        "#3rd part\n",
        "price_tiers=np.array(['budget','budget','mid-tier','luxury','mid-tier','luxury'])\n",
        "print(np.unique(price_tiers))"
      ],
      "metadata": {
        "colab": {
          "base_uri": "https://localhost:8080/"
        },
        "id": "yJY2BMyNIC92",
        "outputId": "673a964f-1fe4-49c1-ce53-51663494097b"
      },
      "execution_count": 85,
      "outputs": [
        {
          "output_type": "stream",
          "name": "stdout",
          "text": [
            "['budget' 'luxury' 'mid-tier']\n"
          ]
        }
      ]
    }
  ]
}